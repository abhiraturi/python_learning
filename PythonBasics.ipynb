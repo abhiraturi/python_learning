{
 "cells": [
  {
   "cell_type": "code",
   "execution_count": 1,
   "metadata": {},
   "outputs": [],
   "source": [
    "import os\n",
    "import warnings"
   ]
  },
  {
   "cell_type": "markdown",
   "metadata": {},
   "source": [
    "# Variables"
   ]
  },
  {
   "cell_type": "code",
   "execution_count": 2,
   "metadata": {},
   "outputs": [],
   "source": [
    "a=8\n",
    "b=\"abhi\"\n",
    "c=9.0"
   ]
  },
  {
   "cell_type": "code",
   "execution_count": 8,
   "metadata": {},
   "outputs": [
    {
     "name": "stdout",
     "output_type": "stream",
     "text": [
      "<class 'int'>\n",
      "<class 'str'>\n",
      "<class 'float'>\n"
     ]
    }
   ],
   "source": [
    "list=[a,b,c]\n",
    "for i in list:\n",
    "    print(type(i))"
   ]
  },
  {
   "cell_type": "markdown",
   "metadata": {},
   "source": [
    "# Boolean"
   ]
  },
  {
   "cell_type": "code",
   "execution_count": 1,
   "metadata": {},
   "outputs": [
    {
     "data": {
      "text/plain": [
       "True"
      ]
     },
     "execution_count": 1,
     "metadata": {},
     "output_type": "execute_result"
    }
   ],
   "source": [
    "a=10\n",
    "b=5\n",
    "c=a>b\n",
    "c"
   ]
  },
  {
   "cell_type": "code",
   "execution_count": 10,
   "metadata": {},
   "outputs": [
    {
     "name": "stdout",
     "output_type": "stream",
     "text": [
      "Enter a number: 4\n",
      "Enter a second number: 5\n",
      "Sum of the two numbers is :  9\n"
     ]
    }
   ],
   "source": [
    "#Adding two numbers\n",
    "# input() taken input as a string and has to be converted into integer (typecast) if required\n",
    "a=int(input(\"Enter a number: \"))\n",
    "b=int(input(\"Enter a second number: \"))\n",
    "print(\"Sum of the two numbers is : \",a+b)"
   ]
  },
  {
   "cell_type": "code",
   "execution_count": 12,
   "metadata": {},
   "outputs": [
    {
     "name": "stdout",
     "output_type": "stream",
     "text": [
      "remainder is 4\n"
     ]
    }
   ],
   "source": [
    "# Find the remainder when dividing\n",
    "a=10\n",
    "b=6\n",
    "print(\"remainder is\",a%b)"
   ]
  },
  {
   "cell_type": "code",
   "execution_count": 13,
   "metadata": {},
   "outputs": [
    {
     "data": {
      "text/plain": [
       "False"
      ]
     },
     "execution_count": 13,
     "metadata": {},
     "output_type": "execute_result"
    }
   ],
   "source": [
    "# Comparison Operator will result into boolean\n",
    "a=90\n",
    "b=101\n",
    "a>b"
   ]
  },
  {
   "cell_type": "code",
   "execution_count": 16,
   "metadata": {},
   "outputs": [
    {
     "name": "stdout",
     "output_type": "stream",
     "text": [
      "Enter a number: 100\n",
      "Enter a second number: 40\n",
      "average of two numbers is :  70.0\n"
     ]
    }
   ],
   "source": [
    "# Find average of two numbers\n",
    "a=int(input(\"Enter a number: \"))\n",
    "b=int(input(\"Enter a second number: \"))\n",
    "c=(a+b)/2\n",
    "print(\"average of two numbers is : \", c)"
   ]
  },
  {
   "cell_type": "code",
   "execution_count": 17,
   "metadata": {},
   "outputs": [
    {
     "name": "stdout",
     "output_type": "stream",
     "text": [
      "Enter a number: 4\n",
      "Square of two numbers is :  16\n"
     ]
    }
   ],
   "source": [
    "# Square of a number aftre user input\n",
    "a=int(input(\"Enter a number: \"))\n",
    "c=a*a\n",
    "print(\"Square of two numbers is : \", c)"
   ]
  },
  {
   "cell_type": "markdown",
   "metadata": {},
   "source": [
    "# Chapter 3 - Strings"
   ]
  },
  {
   "cell_type": "code",
   "execution_count": 18,
   "metadata": {},
   "outputs": [],
   "source": [
    "a=34\n",
    "b=\"harry\""
   ]
  },
  {
   "cell_type": "code",
   "execution_count": 19,
   "metadata": {},
   "outputs": [
    {
     "name": "stdout",
     "output_type": "stream",
     "text": [
      "34 harry\n"
     ]
    }
   ],
   "source": [
    "print(a,b)"
   ]
  },
  {
   "cell_type": "code",
   "execution_count": 21,
   "metadata": {},
   "outputs": [
    {
     "name": "stdout",
     "output_type": "stream",
     "text": [
      "<class 'int'> <class 'str'>\n"
     ]
    }
   ],
   "source": [
    "print(type(a),type(b))"
   ]
  },
  {
   "cell_type": "code",
   "execution_count": 22,
   "metadata": {},
   "outputs": [
    {
     "name": "stdout",
     "output_type": "stream",
     "text": [
      "<class 'str'>\n",
      "<class 'str'>\n",
      "<class 'str'>\n"
     ]
    }
   ],
   "source": [
    "a='harry'\n",
    "b=\"harry\"\n",
    "c='''harry'''\n",
    "print(type(b))\n",
    "print(type(b))\n",
    "print(type(c))"
   ]
  },
  {
   "cell_type": "code",
   "execution_count": 29,
   "metadata": {},
   "outputs": [
    {
     "name": "stdout",
     "output_type": "stream",
     "text": [
      "<class 'str'>\n",
      "<class 'str'>\n",
      "<class 'str'>\n",
      "harry\"s\n"
     ]
    }
   ],
   "source": [
    "#why we use single quotes, double quotes and triple quotes strings\n",
    "# Difference between the three quotes\n",
    "a='harry\"s'\n",
    "b=\"harry's\"\n",
    "c='''\"harry\"s and harry's\"'''\n",
    "d='''\"harry\"s and \n",
    "potter's\"'''\n",
    "print(type(b))\n",
    "print(type(b))\n",
    "print(type(c))\n",
    "print(a)"
   ]
  },
  {
   "cell_type": "code",
   "execution_count": 30,
   "metadata": {},
   "outputs": [
    {
     "name": "stdout",
     "output_type": "stream",
     "text": [
      "harry's\n"
     ]
    }
   ],
   "source": [
    "print(b)"
   ]
  },
  {
   "cell_type": "code",
   "execution_count": 31,
   "metadata": {},
   "outputs": [
    {
     "name": "stdout",
     "output_type": "stream",
     "text": [
      "\"harry\"s and harry's\"\n"
     ]
    }
   ],
   "source": [
    "print(c)"
   ]
  },
  {
   "cell_type": "code",
   "execution_count": 32,
   "metadata": {},
   "outputs": [
    {
     "name": "stdout",
     "output_type": "stream",
     "text": [
      "\"harry\"s and \n",
      "potter's\"\n"
     ]
    }
   ],
   "source": [
    "print(d)"
   ]
  },
  {
   "cell_type": "markdown",
   "metadata": {},
   "source": [
    "\n",
    "# String Slicing"
   ]
  },
  {
   "cell_type": "code",
   "execution_count": 38,
   "metadata": {},
   "outputs": [
    {
     "name": "stdout",
     "output_type": "stream",
     "text": [
      "Good Morning Abhishek\n"
     ]
    }
   ],
   "source": [
    "name=\"Abhishek\"\n",
    "greeting=\"Good Morning \"\n",
    "c=greeting + name\n",
    "print(c)"
   ]
  },
  {
   "cell_type": "code",
   "execution_count": 41,
   "metadata": {},
   "outputs": [
    {
     "name": "stdout",
     "output_type": "stream",
     "text": [
      "G\n",
      " \n",
      "M\n",
      "k\n"
     ]
    }
   ],
   "source": [
    "#Behind the scene for strings it store in an array starting with index 0\n",
    "print(c[0])\n",
    "print(c[4])\n",
    "print(c[5])\n",
    "print(c[-1])"
   ]
  },
  {
   "cell_type": "code",
   "execution_count": 44,
   "metadata": {},
   "outputs": [],
   "source": [
    "# 'str' object does not support item assignment\n",
    "# c[0]=\"Z\" will not work\n"
   ]
  },
  {
   "cell_type": "markdown",
   "metadata": {},
   "source": [
    "# Slicing"
   ]
  },
  {
   "cell_type": "code",
   "execution_count": 47,
   "metadata": {},
   "outputs": [
    {
     "data": {
      "text/plain": [
       "'Abh'"
      ]
     },
     "execution_count": 47,
     "metadata": {},
     "output_type": "execute_result"
    }
   ],
   "source": [
    "# last index is excluded and first index is included\n",
    "name[0:3]"
   ]
  },
  {
   "cell_type": "code",
   "execution_count": 48,
   "metadata": {},
   "outputs": [
    {
     "data": {
      "text/plain": [
       "'bhi'"
      ]
     },
     "execution_count": 48,
     "metadata": {},
     "output_type": "execute_result"
    }
   ],
   "source": [
    "name[1:4]"
   ]
  },
  {
   "cell_type": "code",
   "execution_count": 57,
   "metadata": {},
   "outputs": [
    {
     "data": {
      "text/plain": [
       "'Abhishek'"
      ]
     },
     "execution_count": 57,
     "metadata": {},
     "output_type": "execute_result"
    }
   ],
   "source": [
    "# printing entire string\n",
    "name[0:]"
   ]
  },
  {
   "cell_type": "code",
   "execution_count": 50,
   "metadata": {},
   "outputs": [
    {
     "name": "stdout",
     "output_type": "stream",
     "text": [
      "8\n",
      "13\n"
     ]
    }
   ],
   "source": [
    "# finding length of a string\n",
    "print(len(name))\n",
    "print(len(greeting))"
   ]
  },
  {
   "cell_type": "code",
   "execution_count": 51,
   "metadata": {},
   "outputs": [
    {
     "data": {
      "text/plain": [
       "'k'"
      ]
     },
     "execution_count": 51,
     "metadata": {},
     "output_type": "execute_result"
    }
   ],
   "source": [
    "# why we use negative index\n",
    "# we use to count from last part of the string and if the string is really long nstead of \n",
    "# counting from starting we can count from the end\n",
    "name[-1]"
   ]
  },
  {
   "cell_type": "code",
   "execution_count": 64,
   "metadata": {},
   "outputs": [
    {
     "data": {
      "text/plain": [
       "'Abhishek'"
      ]
     },
     "execution_count": 64,
     "metadata": {},
     "output_type": "execute_result"
    }
   ],
   "source": [
    "name[-8:]"
   ]
  },
  {
   "cell_type": "code",
   "execution_count": 63,
   "metadata": {},
   "outputs": [
    {
     "data": {
      "text/plain": [
       "'Abhishe'"
      ]
     },
     "execution_count": 63,
     "metadata": {},
     "output_type": "execute_result"
    }
   ],
   "source": [
    "# Including -8 and excluding -1 index\n",
    "name[-8:-1]"
   ]
  },
  {
   "cell_type": "markdown",
   "metadata": {},
   "source": [
    "# Slicing with skip value"
   ]
  },
  {
   "cell_type": "code",
   "execution_count": 1,
   "metadata": {},
   "outputs": [
    {
     "data": {
      "text/plain": [
       "'ABHISHEK'"
      ]
     },
     "execution_count": 1,
     "metadata": {},
     "output_type": "execute_result"
    }
   ],
   "source": [
    "\n",
    "name= \"ABHISHEK\"\n",
    "name[0:9]\n"
   ]
  },
  {
   "cell_type": "code",
   "execution_count": 4,
   "metadata": {},
   "outputs": [
    {
     "data": {
      "text/plain": [
       "'ABHISHEK'"
      ]
     },
     "execution_count": 4,
     "metadata": {},
     "output_type": "execute_result"
    }
   ],
   "source": [
    "name[:9]"
   ]
  },
  {
   "cell_type": "code",
   "execution_count": 5,
   "metadata": {},
   "outputs": [
    {
     "data": {
      "text/plain": [
       "'ABHISHEK'"
      ]
     },
     "execution_count": 5,
     "metadata": {},
     "output_type": "execute_result"
    }
   ],
   "source": [
    "name[0:]"
   ]
  },
  {
   "cell_type": "code",
   "execution_count": 2,
   "metadata": {},
   "outputs": [
    {
     "data": {
      "text/plain": [
       "'AHSE'"
      ]
     },
     "execution_count": 2,
     "metadata": {},
     "output_type": "execute_result"
    }
   ],
   "source": [
    "# 3 argument is the skip value i.e . skip every 2 and print\n",
    "name[0:9:2]"
   ]
  },
  {
   "cell_type": "code",
   "execution_count": 3,
   "metadata": {},
   "outputs": [
    {
     "data": {
      "text/plain": [
       "'AHSE'"
      ]
     },
     "execution_count": 3,
     "metadata": {},
     "output_type": "execute_result"
    }
   ],
   "source": [
    "name[0::2]"
   ]
  },
  {
   "cell_type": "markdown",
   "metadata": {},
   "source": [
    "# String functions"
   ]
  },
  {
   "cell_type": "code",
   "execution_count": 18,
   "metadata": {},
   "outputs": [
    {
     "data": {
      "text/plain": [
       "'once upon a time there was a boy named abhishek'"
      ]
     },
     "execution_count": 18,
     "metadata": {},
     "output_type": "execute_result"
    }
   ],
   "source": [
    "story=\"once upon a time there was a boy named abhishek\"\n",
    "story"
   ]
  },
  {
   "cell_type": "code",
   "execution_count": 19,
   "metadata": {},
   "outputs": [
    {
     "name": "stdout",
     "output_type": "stream",
     "text": [
      "47\n"
     ]
    }
   ],
   "source": [
    "# String Functions\n",
    "print(len(story))"
   ]
  },
  {
   "cell_type": "code",
   "execution_count": 20,
   "metadata": {},
   "outputs": [
    {
     "name": "stdout",
     "output_type": "stream",
     "text": [
      "True\n"
     ]
    }
   ],
   "source": [
    "print(story.endswith(\"abhishek\"))"
   ]
  },
  {
   "cell_type": "code",
   "execution_count": 21,
   "metadata": {},
   "outputs": [
    {
     "name": "stdout",
     "output_type": "stream",
     "text": [
      "False\n"
     ]
    }
   ],
   "source": [
    "print(story.endswith(\"raturi\"))"
   ]
  },
  {
   "cell_type": "code",
   "execution_count": 22,
   "metadata": {},
   "outputs": [
    {
     "name": "stdout",
     "output_type": "stream",
     "text": [
      "5\n"
     ]
    }
   ],
   "source": [
    "print(story.count(\"a\"))"
   ]
  },
  {
   "cell_type": "code",
   "execution_count": 23,
   "metadata": {},
   "outputs": [
    {
     "name": "stdout",
     "output_type": "stream",
     "text": [
      "1\n"
     ]
    }
   ],
   "source": [
    "print(story.count(\"abhishek\"))"
   ]
  },
  {
   "cell_type": "code",
   "execution_count": 24,
   "metadata": {},
   "outputs": [
    {
     "name": "stdout",
     "output_type": "stream",
     "text": [
      "1\n"
     ]
    }
   ],
   "source": [
    "print(story.count(\"abhi\"))"
   ]
  },
  {
   "cell_type": "code",
   "execution_count": 26,
   "metadata": {},
   "outputs": [
    {
     "name": "stdout",
     "output_type": "stream",
     "text": [
      "Once upon a time there was a boy named abhishek\n"
     ]
    }
   ],
   "source": [
    "# First letter will be capitalized\n",
    "print(story.capitalize())"
   ]
  },
  {
   "cell_type": "code",
   "execution_count": 28,
   "metadata": {},
   "outputs": [
    {
     "name": "stdout",
     "output_type": "stream",
     "text": [
      "39\n"
     ]
    }
   ],
   "source": [
    "print(story.find(\"abhi\"))"
   ]
  },
  {
   "cell_type": "code",
   "execution_count": 29,
   "metadata": {},
   "outputs": [
    {
     "name": "stdout",
     "output_type": "stream",
     "text": [
      "-1\n"
     ]
    }
   ],
   "source": [
    "print(story.find(\"Abhi\"))"
   ]
  },
  {
   "cell_type": "code",
   "execution_count": 32,
   "metadata": {},
   "outputs": [
    {
     "name": "stdout",
     "output_type": "stream",
     "text": [
      "0\n"
     ]
    }
   ],
   "source": [
    "# Finds only the first occurence and returns its ondex\n",
    "print(story.find(\"once\"))"
   ]
  },
  {
   "cell_type": "code",
   "execution_count": 33,
   "metadata": {},
   "outputs": [
    {
     "name": "stdout",
     "output_type": "stream",
     "text": [
      "once upon a time there was a boy named harry\n"
     ]
    }
   ],
   "source": [
    "# Replaces all the occurences\n",
    "print(story.replace(\"abhishek\",\"harry\"))"
   ]
  },
  {
   "cell_type": "markdown",
   "metadata": {},
   "source": [
    "# Escape sequence characters"
   ]
  },
  {
   "cell_type": "code",
   "execution_count": 35,
   "metadata": {},
   "outputs": [
    {
     "name": "stdout",
     "output_type": "stream",
     "text": [
      "Harry styles. He is a singer\n"
     ]
    }
   ],
   "source": [
    "story=\"Harry styles. He is a singer\"\n",
    "print(story)"
   ]
  },
  {
   "cell_type": "code",
   "execution_count": 36,
   "metadata": {},
   "outputs": [
    {
     "name": "stdout",
     "output_type": "stream",
     "text": [
      "Harry styles. \n",
      " He \t is a singer\n"
     ]
    }
   ],
   "source": [
    "story=\"Harry styles. \\n He \\t is a singer\"\n",
    "print(story)"
   ]
  },
  {
   "cell_type": "code",
   "execution_count": 41,
   "metadata": {},
   "outputs": [
    {
     "name": "stdout",
     "output_type": "stream",
     "text": [
      "Harry styles. He is a \\singer\n"
     ]
    }
   ],
   "source": [
    "story=\"Harry styles. He is a \\\\singer\"\n",
    "print(story)"
   ]
  },
  {
   "cell_type": "markdown",
   "metadata": {},
   "source": [
    "# Practise set with Strings"
   ]
  },
  {
   "cell_type": "code",
   "execution_count": 45,
   "metadata": {},
   "outputs": [
    {
     "name": "stdout",
     "output_type": "stream",
     "text": [
      "Enter your name : abhishek\n",
      "Good Morning,  abhishek\n",
      "Good Morning, abhishek\n"
     ]
    }
   ],
   "source": [
    "# Problem 1\n",
    "user=input(\"Enter your name : \")\n",
    "print(\"Good Morning, \",user)\n",
    "print(\"Good Morning, \"+user)"
   ]
  },
  {
   "cell_type": "code",
   "execution_count": 48,
   "metadata": {},
   "outputs": [
    {
     "name": "stdout",
     "output_type": "stream",
     "text": [
      "Enter your name \n",
      ": abhishek\n",
      "Enter date :\n",
      " 12082021\n"
     ]
    },
    {
     "data": {
      "text/plain": [
       "'Dear <|Name|>,\\nYou are selected!\\n\\nDate: 12082021\\n'"
      ]
     },
     "execution_count": 48,
     "metadata": {},
     "output_type": "execute_result"
    }
   ],
   "source": [
    "# Problem 2 - Letter template\n",
    "letter='''Dear <|Name|>,\n",
    "You are selected!\n",
    "\n",
    "Date: <|Date|>\n",
    "'''\n",
    "name=input(\"Enter your name \\n: \")\n",
    "date=input(\"Enter date :\\n \")\n",
    "letter.replace(\"<|Name|>\",name)\n",
    "letter.replace(\"<|Date|>\",date)"
   ]
  },
  {
   "cell_type": "code",
   "execution_count": 49,
   "metadata": {},
   "outputs": [
    {
     "name": "stdout",
     "output_type": "stream",
     "text": [
      "Dear <|Name|>,\n",
      "You are selected!\n",
      "\n",
      "Date: <|Date|>\n",
      "\n"
     ]
    }
   ],
   "source": [
    "# it did not change because it does not replaces in the actual string\n",
    "print(letter)"
   ]
  },
  {
   "cell_type": "code",
   "execution_count": 57,
   "metadata": {},
   "outputs": [
    {
     "name": "stdout",
     "output_type": "stream",
     "text": [
      "Enter your name \n",
      ": abhi\n",
      "Enter date :\n",
      " sdh \n",
      "\n",
      "\n",
      "\n",
      "\n",
      "Dear abhi,\n",
      "You are selected!\n",
      "\n",
      "Date: sdh \n",
      "\n"
     ]
    }
   ],
   "source": [
    "# you have to use letter=letter.replace\n",
    "# Problem 2 - Letter template\n",
    "letter='''Dear <|Name|>,\n",
    "You are selected!\n",
    "\n",
    "Date: <|Date|>\n",
    "'''\n",
    "name=input(\"Enter your name \\n: \")\n",
    "date=input(\"Enter date :\\n \")\n",
    "letter=letter.replace(\"<|Name|>\",name)\n",
    "letter=letter.replace(\"<|Date|>\",date)\n",
    "print(\"\\n\\n\\n\")\n",
    "print(letter)"
   ]
  },
  {
   "cell_type": "code",
   "execution_count": 60,
   "metadata": {},
   "outputs": [
    {
     "name": "stdout",
     "output_type": "stream",
     "text": [
      "Double spaces are present at index :  28\n"
     ]
    }
   ],
   "source": [
    "#Problem 3 - Detect double spaces in a string\n",
    "str=\"This is a string with double  spaces\"\n",
    "c=str.find(\"  \")\n",
    "if c==-1:\n",
    "    print(\"Double spaces not present\")\n",
    "else:\n",
    "    print(\"Double spaces are present at index : \",c)\n",
    "\n"
   ]
  },
  {
   "cell_type": "code",
   "execution_count": 63,
   "metadata": {},
   "outputs": [
    {
     "name": "stdout",
     "output_type": "stream",
     "text": [
      "This is a string with double  spaces\n",
      "This is a string with double spaces\n"
     ]
    }
   ],
   "source": [
    "#Problem 4 - Replace double spaces in the above string with single spaces\n",
    "str=\"This is a string with double  spaces\"\n",
    "print(str)\n",
    "str=str.replace(\"  \",\" \")\n",
    "print(str)"
   ]
  },
  {
   "cell_type": "code",
   "execution_count": 68,
   "metadata": {},
   "outputs": [
    {
     "name": "stdout",
     "output_type": "stream",
     "text": [
      "Dear Harry, This python course is nice.Thanks!\n",
      "\n",
      "\n",
      "\n",
      "\n",
      "Dear Harry,\n",
      "\n",
      "This python course is nice.\n",
      "\n",
      "Thanks!\n"
     ]
    }
   ],
   "source": [
    "#Problem 5 - To format the below string using escape sequence characters\n",
    "letter1=\"Dear Harry, This python course is nice.Thanks!\"\n",
    "letter2=\"Dear Harry,\\n\\nThis python course is nice.\\n\\nThanks!\"\n",
    "print(letter1)\n",
    "print(\"\\n\\n\\n\")\n",
    "print(letter2)"
   ]
  },
  {
   "cell_type": "markdown",
   "metadata": {},
   "source": [
    "# Chapter 4 - List and Tuples"
   ]
  },
  {
   "cell_type": "markdown",
   "metadata": {},
   "source": [
    "# List"
   ]
  },
  {
   "cell_type": "code",
   "execution_count": 9,
   "metadata": {},
   "outputs": [
    {
     "name": "stdout",
     "output_type": "stream",
     "text": [
      "[1, 2, 3, 4, 57, 6]\n"
     ]
    }
   ],
   "source": [
    "#Lists\n",
    "# List stores list of values of any data types\n",
    "a=[1,2,3,4,57,6]\n",
    "print(a)"
   ]
  },
  {
   "cell_type": "code",
   "execution_count": 10,
   "metadata": {},
   "outputs": [
    {
     "data": {
      "text/plain": [
       "57"
      ]
     },
     "execution_count": 10,
     "metadata": {},
     "output_type": "execute_result"
    }
   ],
   "source": [
    "a[4]"
   ]
  },
  {
   "cell_type": "code",
   "execution_count": 11,
   "metadata": {},
   "outputs": [],
   "source": [
    "a[0]=98"
   ]
  },
  {
   "cell_type": "code",
   "execution_count": 12,
   "metadata": {},
   "outputs": [
    {
     "name": "stdout",
     "output_type": "stream",
     "text": [
      "[98, 2, 3, 4, 57, 6]\n"
     ]
    }
   ],
   "source": [
    "print(a)"
   ]
  },
  {
   "cell_type": "code",
   "execution_count": 13,
   "metadata": {},
   "outputs": [
    {
     "name": "stdout",
     "output_type": "stream",
     "text": [
      "[1, 'harry', 9.8]\n"
     ]
    }
   ],
   "source": [
    "a=[1,\"harry\",9.8]\n",
    "print(a)"
   ]
  },
  {
   "cell_type": "markdown",
   "metadata": {},
   "source": [
    "# List Slicing"
   ]
  },
  {
   "cell_type": "code",
   "execution_count": 14,
   "metadata": {},
   "outputs": [
    {
     "name": "stdout",
     "output_type": "stream",
     "text": [
      "[1, 'harry', 9.8]\n"
     ]
    }
   ],
   "source": [
    "print(a[0:])"
   ]
  },
  {
   "cell_type": "code",
   "execution_count": 16,
   "metadata": {},
   "outputs": [
    {
     "name": "stdout",
     "output_type": "stream",
     "text": [
      "[1, 'harry']\n"
     ]
    }
   ],
   "source": [
    "print(a[0:2])"
   ]
  },
  {
   "cell_type": "code",
   "execution_count": 18,
   "metadata": {},
   "outputs": [
    {
     "name": "stdout",
     "output_type": "stream",
     "text": [
      "[1, 'harry', 9.8]\n"
     ]
    }
   ],
   "source": [
    "print(a[-3:])"
   ]
  },
  {
   "cell_type": "markdown",
   "metadata": {},
   "source": [
    "# List Methods"
   ]
  },
  {
   "cell_type": "code",
   "execution_count": 42,
   "metadata": {},
   "outputs": [],
   "source": [
    "l1= [1,5,23,7,8,3,5,0,6]"
   ]
  },
  {
   "cell_type": "code",
   "execution_count": 43,
   "metadata": {},
   "outputs": [
    {
     "name": "stdout",
     "output_type": "stream",
     "text": [
      "None\n"
     ]
    }
   ],
   "source": [
    "li_sorted=l1.sort()  # will not work\n",
    "print(li_sorted)"
   ]
  },
  {
   "cell_type": "code",
   "execution_count": 44,
   "metadata": {},
   "outputs": [
    {
     "name": "stdout",
     "output_type": "stream",
     "text": [
      "[0, 1, 3, 5, 5, 6, 7, 8, 23]\n"
     ]
    }
   ],
   "source": [
    "l1.sort()\n",
    "print(l1)"
   ]
  },
  {
   "cell_type": "code",
   "execution_count": 45,
   "metadata": {},
   "outputs": [
    {
     "name": "stdout",
     "output_type": "stream",
     "text": [
      "[0, 1, 3, 5, 5, 6, 7, 8, 23, 7]\n"
     ]
    }
   ],
   "source": [
    "#append list - adds at the end of the list\n",
    "\n",
    "l1.append(7)\n",
    "print(l1)\n"
   ]
  },
  {
   "cell_type": "code",
   "execution_count": 46,
   "metadata": {},
   "outputs": [
    {
     "name": "stdout",
     "output_type": "stream",
     "text": [
      "[100, 0, 1, 3, 5, 5, 6, 7, 8, 23, 7]\n"
     ]
    }
   ],
   "source": [
    "# list insert - insert at index\n",
    "l1.insert(0,100) # insert 100 at 0 th index\n",
    "print(l1)"
   ]
  },
  {
   "cell_type": "code",
   "execution_count": 47,
   "metadata": {},
   "outputs": [
    {
     "name": "stdout",
     "output_type": "stream",
     "text": [
      "[100, 0, 3, 5, 5, 6, 7, 8, 23, 7]\n"
     ]
    }
   ],
   "source": [
    "# pop \n",
    "l1.pop(2) # removes element from 2 nd index\n",
    "print(l1)"
   ]
  },
  {
   "cell_type": "code",
   "execution_count": 48,
   "metadata": {},
   "outputs": [
    {
     "name": "stdout",
     "output_type": "stream",
     "text": [
      "[0, 3, 5, 5, 6, 7, 8, 23, 7]\n"
     ]
    }
   ],
   "source": [
    "#remove \n",
    "l1.remove(100) # remove the element\n",
    "print(l1)"
   ]
  },
  {
   "cell_type": "code",
   "execution_count": 49,
   "metadata": {},
   "outputs": [
    {
     "name": "stdout",
     "output_type": "stream",
     "text": [
      "[7, 23, 8, 7, 6, 5, 5, 3, 0]\n"
     ]
    }
   ],
   "source": [
    "#reverse\n",
    "l1.reverse() # reverse the list\n",
    "print(l1)"
   ]
  },
  {
   "cell_type": "markdown",
   "metadata": {},
   "source": [
    "# Tuples"
   ]
  },
  {
   "cell_type": "code",
   "execution_count": 51,
   "metadata": {},
   "outputs": [
    {
     "name": "stdout",
     "output_type": "stream",
     "text": [
      "8\n"
     ]
    }
   ],
   "source": [
    "t=(1,7,3,8)\n",
    "print(t[3])"
   ]
  },
  {
   "cell_type": "code",
   "execution_count": 53,
   "metadata": {},
   "outputs": [],
   "source": [
    "# Cannot update tuples, is immutable\n",
    "# mutation means to change\n",
    "# Once tuple is defined, we cannot change it\n",
    "# t[0]=34 # will not work"
   ]
  },
  {
   "cell_type": "code",
   "execution_count": 58,
   "metadata": {},
   "outputs": [
    {
     "name": "stdout",
     "output_type": "stream",
     "text": [
      "()\n",
      "1\n",
      "(1,)\n",
      "(5, 3, 9)\n"
     ]
    }
   ],
   "source": [
    "a=() # empty tiple\n",
    "b=(1) # wrong way to create a tuple with single element\n",
    "c=(1,) # tuple with one element needs a comma, not needed when using jupyter but will be needed when isung idle\n",
    "d=(5,3,9) # tuple with multiple element\n",
    "print(a)\n",
    "print(b)\n",
    "print(c)\n",
    "print(d)"
   ]
  },
  {
   "cell_type": "markdown",
   "metadata": {},
   "source": [
    "# Tuples Method"
   ]
  },
  {
   "cell_type": "code",
   "execution_count": 60,
   "metadata": {},
   "outputs": [
    {
     "data": {
      "text/plain": [
       "5"
      ]
     },
     "execution_count": 60,
     "metadata": {},
     "output_type": "execute_result"
    }
   ],
   "source": [
    "t1=(1,5,1,8,1,9,1,10,53,1)\n",
    "t1.count(1) # count the occurence of element 1 in the tuple"
   ]
  },
  {
   "cell_type": "code",
   "execution_count": 62,
   "metadata": {},
   "outputs": [
    {
     "data": {
      "text/plain": [
       "0"
      ]
     },
     "execution_count": 62,
     "metadata": {},
     "output_type": "execute_result"
    }
   ],
   "source": [
    "t1.index(1) # returns the index of the element in the tuple, the first occurence"
   ]
  },
  {
   "cell_type": "markdown",
   "metadata": {},
   "source": [
    "# Lists and Tuples - Practise "
   ]
  },
  {
   "cell_type": "code",
   "execution_count": 65,
   "metadata": {},
   "outputs": [
    {
     "name": "stdout",
     "output_type": "stream",
     "text": [
      "Enter fruit name : apple\n",
      "Enter fruit name : mango\n",
      "Enter fruit name : banana\n",
      "['apple', 'mango', 'banana']\n"
     ]
    }
   ],
   "source": [
    "# Q1 - store 3 fruits in a list entered by user\n",
    "fruits=[]\n",
    "for i in range(3):\n",
    "    a=input(\"Enter fruit name : \")\n",
    "    fruits.append(a)\n",
    "print(fruits)\n",
    "    "
   ]
  },
  {
   "cell_type": "code",
   "execution_count": 70,
   "metadata": {},
   "outputs": [
    {
     "name": "stdout",
     "output_type": "stream",
     "text": [
      "Enter marks for student: 45\n",
      "Enter marks for student: 86\n",
      "Enter marks for student: 34\n",
      "Enter marks for student: 68\n",
      "Enter marks for student: 45\n",
      "Marks sorted are :  [34, 45, 45, 68, 86]\n"
     ]
    }
   ],
   "source": [
    "# Q2 - Display marks of 5 students in a sorted manner\n",
    "marks=[]\n",
    "for i in range(5):\n",
    "    a=int(input(\"Enter marks for student: \"))\n",
    "    marks.append(a)\n",
    "    \n",
    "marks.sort()\n",
    "print(\"Marks sorted are : \",marks)\n",
    "    \n"
   ]
  },
  {
   "cell_type": "code",
   "execution_count": 75,
   "metadata": {},
   "outputs": [
    {
     "name": "stdout",
     "output_type": "stream",
     "text": [
      "sum is :  30\n"
     ]
    }
   ],
   "source": [
    "#Q3 - add a list of 4 numbers\n",
    "a=[4,7,10,9]\n",
    "sum=0\n",
    "for i in range(4):\n",
    "    sum=sum + a[i]\n",
    "print(\"sum is : \",sum)"
   ]
  },
  {
   "cell_type": "code",
   "execution_count": 85,
   "metadata": {},
   "outputs": [
    {
     "name": "stdout",
     "output_type": "stream",
     "text": [
      "number of zeros in the tuple are :  3\n"
     ]
    }
   ],
   "source": [
    "# Q3 - find the number of zeros in the tuple\n",
    "z=(7,0,8,0,0,9)\n",
    "count=0\n",
    "r=len(z)\n",
    "for i in range(r):\n",
    "    if z[i]==0:\n",
    "        count=count+1\n",
    "print(\"number of zeros in the tuple are : \",count)\n",
    "        "
   ]
  },
  {
   "cell_type": "code",
   "execution_count": 86,
   "metadata": {},
   "outputs": [
    {
     "name": "stdout",
     "output_type": "stream",
     "text": [
      "3\n"
     ]
    }
   ],
   "source": [
    "# Q3 - find the number of zeros in the tuple using function\n",
    "z=(7,0,8,0,0,9)\n",
    "print(z.count(0))"
   ]
  },
  {
   "cell_type": "markdown",
   "metadata": {},
   "source": [
    "# Chapter 5 - Dictionary and Sets"
   ]
  },
  {
   "cell_type": "code",
   "execution_count": 99,
   "metadata": {},
   "outputs": [
    {
     "name": "stdout",
     "output_type": "stream",
     "text": [
      "{'Harry': 'Styles', 'abhi': 'raturi', 'ishan': 'khan', 'kate': 'winslet', 'marks': [34, 45, 76], 'anotherDict': {'marks1': [45, 87, 90]}, 'a': (1, 5, 2)}\n"
     ]
    }
   ],
   "source": [
    "#Dictionary - collection of key value pairs\n",
    "\n",
    "myDict={\"Harry\":\"Styles\",\n",
    "        \"abhi\":\"raturi\",\n",
    "        \"ishan\":\"khan\",\n",
    "        \"kate\":\"winslet\",\n",
    "        \"marks\":[34,45,76],\n",
    "        \"anotherDict\":{\"marks1\":[45,87,90]},\n",
    "        \"a\":(1,5,2)\n",
    "       }\n",
    "print(myDict)"
   ]
  },
  {
   "cell_type": "code",
   "execution_count": 100,
   "metadata": {},
   "outputs": [
    {
     "name": "stdout",
     "output_type": "stream",
     "text": [
      "raturi\n",
      "[34, 45, 76]\n",
      "{'marks1': [45, 87, 90]}\n",
      "[45, 87, 90]\n",
      "(1, 5, 2)\n"
     ]
    }
   ],
   "source": [
    "# printing corresponding value\n",
    "print(myDict['abhi'])\n",
    "print(myDict['marks'])\n",
    "print(myDict['anotherDict'])\n",
    "print(myDict['anotherDict']['marks1'])\n",
    "print(myDict['a'])"
   ]
  },
  {
   "cell_type": "markdown",
   "metadata": {},
   "source": [
    "# Properties of Dictionaries"
   ]
  },
  {
   "cell_type": "code",
   "execution_count": 101,
   "metadata": {},
   "outputs": [],
   "source": [
    "# unordered\n",
    "# mutable\n",
    "# indexed\n",
    "# cannot contain duplicate keys"
   ]
  },
  {
   "cell_type": "markdown",
   "metadata": {},
   "source": [
    "# Dictionary Methods"
   ]
  },
  {
   "cell_type": "code",
   "execution_count": null,
   "metadata": {},
   "outputs": [],
   "source": [
    "myDict={\"Harry\":\"Styles\",\n",
    "        \"abhi\":\"raturi\",\n",
    "        \"ishan\":\"khan\",\n",
    "        \"kate\":\"winslet\",\n",
    "        \"marks\":[34,45,76],\n",
    "        \"anotherDict\":{\"marks1\":[45,87,90]},\n",
    "        \"a\":(1,5,2)\n",
    "       }"
   ]
  },
  {
   "cell_type": "code",
   "execution_count": 103,
   "metadata": {},
   "outputs": [
    {
     "data": {
      "text/plain": [
       "dict_keys(['Harry', 'abhi', 'ishan', 'kate', 'marks', 'anotherDict', 'a'])"
      ]
     },
     "execution_count": 103,
     "metadata": {},
     "output_type": "execute_result"
    }
   ],
   "source": [
    "myDict.keys() # prints all the keys in the dicitinary"
   ]
  },
  {
   "cell_type": "code",
   "execution_count": 104,
   "metadata": {},
   "outputs": [
    {
     "data": {
      "text/plain": [
       "dict_values(['Styles', 'raturi', 'khan', 'winslet', [34, 45, 76], {'marks1': [45, 87, 90]}, (1, 5, 2)])"
      ]
     },
     "execution_count": 104,
     "metadata": {},
     "output_type": "execute_result"
    }
   ],
   "source": [
    "myDict.values() # prints all the values in the dicitinary"
   ]
  },
  {
   "cell_type": "code",
   "execution_count": 106,
   "metadata": {},
   "outputs": [
    {
     "data": {
      "text/plain": [
       "dict_items([('Harry', 'Styles'), ('abhi', 'raturi'), ('ishan', 'khan'), ('kate', 'winslet'), ('marks', [34, 45, 76]), ('anotherDict', {'marks1': [45, 87, 90]}), ('a', (1, 5, 2))])"
      ]
     },
     "execution_count": 106,
     "metadata": {},
     "output_type": "execute_result"
    }
   ],
   "source": [
    "myDict.items() # prints all the contents in the dicitinary"
   ]
  },
  {
   "cell_type": "code",
   "execution_count": 109,
   "metadata": {},
   "outputs": [
    {
     "data": {
      "text/plain": [
       "{'Harry': 'Styles',\n",
       " 'abhi': 'raturi',\n",
       " 'ishan': 'khan',\n",
       " 'kate': 'winslet',\n",
       " 'marks': [34, 45, 76],\n",
       " 'anotherDict': {'marks1': [45, 87, 90]},\n",
       " 'a': (1, 5, 2),\n",
       " 'Lovish': 'Friend'}"
      ]
     },
     "execution_count": 109,
     "metadata": {},
     "output_type": "execute_result"
    }
   ],
   "source": [
    "updateDict={\"Lovish\":\"Friend\"\n",
    "}\n",
    "myDict.update(updateDict)  # updates the dictionary with the key value pair at last\n",
    "myDict"
   ]
  },
  {
   "cell_type": "code",
   "execution_count": null,
   "metadata": {},
   "outputs": [],
   "source": []
  },
  {
   "cell_type": "code",
   "execution_count": null,
   "metadata": {},
   "outputs": [],
   "source": []
  },
  {
   "cell_type": "code",
   "execution_count": null,
   "metadata": {},
   "outputs": [],
   "source": []
  },
  {
   "cell_type": "code",
   "execution_count": null,
   "metadata": {},
   "outputs": [],
   "source": []
  }
 ],
 "metadata": {
  "kernelspec": {
   "display_name": "Python 3",
   "language": "python",
   "name": "python3"
  },
  "language_info": {
   "codemirror_mode": {
    "name": "ipython",
    "version": 3
   },
   "file_extension": ".py",
   "mimetype": "text/x-python",
   "name": "python",
   "nbconvert_exporter": "python",
   "pygments_lexer": "ipython3",
   "version": "3.7.6"
  }
 },
 "nbformat": 4,
 "nbformat_minor": 4
}
