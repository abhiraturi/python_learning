{
 "cells": [
  {
   "cell_type": "code",
   "execution_count": 159,
   "metadata": {},
   "outputs": [],
   "source": [
    "import os\n",
    "import warnings"
   ]
  },
  {
   "cell_type": "markdown",
   "metadata": {},
   "source": [
    "# Variables"
   ]
  },
  {
   "cell_type": "code",
   "execution_count": 160,
   "metadata": {},
   "outputs": [],
   "source": [
    "a=8\n",
    "b=\"abhi\"\n",
    "c=9.0"
   ]
  },
  {
   "cell_type": "code",
   "execution_count": 161,
   "metadata": {},
   "outputs": [
    {
     "name": "stdout",
     "output_type": "stream",
     "text": [
      "<class 'int'>\n",
      "<class 'str'>\n",
      "<class 'float'>\n"
     ]
    }
   ],
   "source": [
    "list=[a,b,c]\n",
    "for i in list:\n",
    "    print(type(i))"
   ]
  },
  {
   "cell_type": "markdown",
   "metadata": {},
   "source": [
    "# Boolean"
   ]
  },
  {
   "cell_type": "code",
   "execution_count": 162,
   "metadata": {},
   "outputs": [
    {
     "data": {
      "text/plain": [
       "True"
      ]
     },
     "execution_count": 162,
     "metadata": {},
     "output_type": "execute_result"
    }
   ],
   "source": [
    "a=10\n",
    "b=5\n",
    "c=a>b\n",
    "c"
   ]
  },
  {
   "cell_type": "code",
   "execution_count": 163,
   "metadata": {},
   "outputs": [
    {
     "name": "stdout",
     "output_type": "stream",
     "text": [
      "Enter a number: 12\n",
      "Enter a second number: 23\n",
      "Sum of the two numbers is :  35\n"
     ]
    }
   ],
   "source": [
    "#Adding two numbers\n",
    "# input() taken input as a string and has to be converted into integer (typecast) if required\n",
    "a=int(input(\"Enter a number: \"))\n",
    "b=int(input(\"Enter a second number: \"))\n",
    "print(\"Sum of the two numbers is : \",a+b)"
   ]
  },
  {
   "cell_type": "code",
   "execution_count": 164,
   "metadata": {},
   "outputs": [
    {
     "name": "stdout",
     "output_type": "stream",
     "text": [
      "remainder is 4\n"
     ]
    }
   ],
   "source": [
    "# Find the remainder when dividing\n",
    "a=10\n",
    "b=6\n",
    "print(\"remainder is\",a%b)"
   ]
  },
  {
   "cell_type": "code",
   "execution_count": 165,
   "metadata": {},
   "outputs": [
    {
     "data": {
      "text/plain": [
       "False"
      ]
     },
     "execution_count": 165,
     "metadata": {},
     "output_type": "execute_result"
    }
   ],
   "source": [
    "# Comparison Operator will result into boolean\n",
    "a=90\n",
    "b=101\n",
    "a>b"
   ]
  },
  {
   "cell_type": "code",
   "execution_count": 166,
   "metadata": {},
   "outputs": [
    {
     "name": "stdout",
     "output_type": "stream",
     "text": [
      "Enter a number: 23\n",
      "Enter a second number: 12\n",
      "average of two numbers is :  17.5\n"
     ]
    }
   ],
   "source": [
    "# Find average of two numbers\n",
    "a=int(input(\"Enter a number: \"))\n",
    "b=int(input(\"Enter a second number: \"))\n",
    "c=(a+b)/2\n",
    "print(\"average of two numbers is : \", c)"
   ]
  },
  {
   "cell_type": "code",
   "execution_count": 167,
   "metadata": {},
   "outputs": [
    {
     "name": "stdout",
     "output_type": "stream",
     "text": [
      "Enter a number: 567\n",
      "Square of two numbers is :  321489\n"
     ]
    }
   ],
   "source": [
    "# Square of a number aftre user input\n",
    "a=int(input(\"Enter a number: \"))\n",
    "c=a*a\n",
    "print(\"Square of two numbers is : \", c)"
   ]
  },
  {
   "cell_type": "markdown",
   "metadata": {},
   "source": [
    "# Chapter 3 - Strings"
   ]
  },
  {
   "cell_type": "code",
   "execution_count": 168,
   "metadata": {},
   "outputs": [],
   "source": [
    "a=34\n",
    "b=\"harry\""
   ]
  },
  {
   "cell_type": "code",
   "execution_count": 169,
   "metadata": {},
   "outputs": [
    {
     "name": "stdout",
     "output_type": "stream",
     "text": [
      "34 harry\n"
     ]
    }
   ],
   "source": [
    "print(a,b)"
   ]
  },
  {
   "cell_type": "code",
   "execution_count": 170,
   "metadata": {},
   "outputs": [
    {
     "name": "stdout",
     "output_type": "stream",
     "text": [
      "<class 'int'> <class 'str'>\n"
     ]
    }
   ],
   "source": [
    "print(type(a),type(b))"
   ]
  },
  {
   "cell_type": "code",
   "execution_count": 171,
   "metadata": {},
   "outputs": [
    {
     "name": "stdout",
     "output_type": "stream",
     "text": [
      "<class 'str'>\n",
      "<class 'str'>\n",
      "<class 'str'>\n"
     ]
    }
   ],
   "source": [
    "a='harry'\n",
    "b=\"harry\"\n",
    "c='''harry'''\n",
    "print(type(b))\n",
    "print(type(b))\n",
    "print(type(c))"
   ]
  },
  {
   "cell_type": "code",
   "execution_count": 172,
   "metadata": {},
   "outputs": [
    {
     "name": "stdout",
     "output_type": "stream",
     "text": [
      "<class 'str'>\n",
      "<class 'str'>\n",
      "<class 'str'>\n",
      "harry\"s\n"
     ]
    }
   ],
   "source": [
    "#why we use single quotes, double quotes and triple quotes strings\n",
    "# Difference between the three quotes\n",
    "a='harry\"s'\n",
    "b=\"harry's\"\n",
    "c='''\"harry\"s and harry's\"'''\n",
    "d='''\"harry\"s and \n",
    "potter's\"'''\n",
    "print(type(b))\n",
    "print(type(b))\n",
    "print(type(c))\n",
    "print(a)"
   ]
  },
  {
   "cell_type": "code",
   "execution_count": 173,
   "metadata": {},
   "outputs": [
    {
     "name": "stdout",
     "output_type": "stream",
     "text": [
      "harry's\n"
     ]
    }
   ],
   "source": [
    "print(b)"
   ]
  },
  {
   "cell_type": "code",
   "execution_count": 174,
   "metadata": {},
   "outputs": [
    {
     "name": "stdout",
     "output_type": "stream",
     "text": [
      "\"harry\"s and harry's\"\n"
     ]
    }
   ],
   "source": [
    "print(c)"
   ]
  },
  {
   "cell_type": "code",
   "execution_count": 175,
   "metadata": {},
   "outputs": [
    {
     "name": "stdout",
     "output_type": "stream",
     "text": [
      "\"harry\"s and \n",
      "potter's\"\n"
     ]
    }
   ],
   "source": [
    "print(d)"
   ]
  },
  {
   "cell_type": "markdown",
   "metadata": {},
   "source": [
    "\n",
    "# String Slicing"
   ]
  },
  {
   "cell_type": "code",
   "execution_count": 176,
   "metadata": {},
   "outputs": [
    {
     "name": "stdout",
     "output_type": "stream",
     "text": [
      "Good Morning Abhishek\n"
     ]
    }
   ],
   "source": [
    "name=\"Abhishek\"\n",
    "greeting=\"Good Morning \"\n",
    "c=greeting + name\n",
    "print(c)"
   ]
  },
  {
   "cell_type": "code",
   "execution_count": 177,
   "metadata": {},
   "outputs": [
    {
     "name": "stdout",
     "output_type": "stream",
     "text": [
      "G\n",
      " \n",
      "M\n",
      "k\n"
     ]
    }
   ],
   "source": [
    "#Behind the scene for strings it store in an array starting with index 0\n",
    "print(c[0])\n",
    "print(c[4])\n",
    "print(c[5])\n",
    "print(c[-1])"
   ]
  },
  {
   "cell_type": "code",
   "execution_count": 178,
   "metadata": {},
   "outputs": [],
   "source": [
    "# 'str' object does not support item assignment\n",
    "# c[0]=\"Z\" will not work\n"
   ]
  },
  {
   "cell_type": "markdown",
   "metadata": {},
   "source": [
    "# Slicing"
   ]
  },
  {
   "cell_type": "code",
   "execution_count": 179,
   "metadata": {},
   "outputs": [
    {
     "data": {
      "text/plain": [
       "'Abh'"
      ]
     },
     "execution_count": 179,
     "metadata": {},
     "output_type": "execute_result"
    }
   ],
   "source": [
    "# last index is excluded and first index is included\n",
    "name[0:3]"
   ]
  },
  {
   "cell_type": "code",
   "execution_count": 180,
   "metadata": {},
   "outputs": [
    {
     "data": {
      "text/plain": [
       "'bhi'"
      ]
     },
     "execution_count": 180,
     "metadata": {},
     "output_type": "execute_result"
    }
   ],
   "source": [
    "name[1:4]"
   ]
  },
  {
   "cell_type": "code",
   "execution_count": 181,
   "metadata": {},
   "outputs": [
    {
     "data": {
      "text/plain": [
       "'Abhishek'"
      ]
     },
     "execution_count": 181,
     "metadata": {},
     "output_type": "execute_result"
    }
   ],
   "source": [
    "# printing entire string\n",
    "name[0:]"
   ]
  },
  {
   "cell_type": "code",
   "execution_count": 182,
   "metadata": {},
   "outputs": [
    {
     "name": "stdout",
     "output_type": "stream",
     "text": [
      "8\n",
      "13\n"
     ]
    }
   ],
   "source": [
    "# finding length of a string\n",
    "print(len(name))\n",
    "print(len(greeting))"
   ]
  },
  {
   "cell_type": "code",
   "execution_count": 183,
   "metadata": {},
   "outputs": [
    {
     "data": {
      "text/plain": [
       "'k'"
      ]
     },
     "execution_count": 183,
     "metadata": {},
     "output_type": "execute_result"
    }
   ],
   "source": [
    "# why we use negative index\n",
    "# we use to count from last part of the string and if the string is really long nstead of \n",
    "# counting from starting we can count from the end\n",
    "name[-1]"
   ]
  },
  {
   "cell_type": "code",
   "execution_count": 184,
   "metadata": {},
   "outputs": [
    {
     "data": {
      "text/plain": [
       "'Abhishek'"
      ]
     },
     "execution_count": 184,
     "metadata": {},
     "output_type": "execute_result"
    }
   ],
   "source": [
    "name[-8:]"
   ]
  },
  {
   "cell_type": "code",
   "execution_count": 185,
   "metadata": {},
   "outputs": [
    {
     "data": {
      "text/plain": [
       "'Abhishe'"
      ]
     },
     "execution_count": 185,
     "metadata": {},
     "output_type": "execute_result"
    }
   ],
   "source": [
    "# Including -8 and excluding -1 index\n",
    "name[-8:-1]"
   ]
  },
  {
   "cell_type": "markdown",
   "metadata": {},
   "source": [
    "# Slicing with skip value"
   ]
  },
  {
   "cell_type": "code",
   "execution_count": 186,
   "metadata": {},
   "outputs": [
    {
     "data": {
      "text/plain": [
       "'ABHISHEK'"
      ]
     },
     "execution_count": 186,
     "metadata": {},
     "output_type": "execute_result"
    }
   ],
   "source": [
    "\n",
    "name= \"ABHISHEK\"\n",
    "name[0:9]\n"
   ]
  },
  {
   "cell_type": "code",
   "execution_count": 187,
   "metadata": {},
   "outputs": [
    {
     "data": {
      "text/plain": [
       "'ABHISHEK'"
      ]
     },
     "execution_count": 187,
     "metadata": {},
     "output_type": "execute_result"
    }
   ],
   "source": [
    "name[:9]"
   ]
  },
  {
   "cell_type": "code",
   "execution_count": 188,
   "metadata": {},
   "outputs": [
    {
     "data": {
      "text/plain": [
       "'ABHISHEK'"
      ]
     },
     "execution_count": 188,
     "metadata": {},
     "output_type": "execute_result"
    }
   ],
   "source": [
    "name[0:]"
   ]
  },
  {
   "cell_type": "code",
   "execution_count": 189,
   "metadata": {},
   "outputs": [
    {
     "data": {
      "text/plain": [
       "'AHSE'"
      ]
     },
     "execution_count": 189,
     "metadata": {},
     "output_type": "execute_result"
    }
   ],
   "source": [
    "# 3 argument is the skip value i.e . skip every 2 and print\n",
    "name[0:9:2]"
   ]
  },
  {
   "cell_type": "code",
   "execution_count": 190,
   "metadata": {},
   "outputs": [
    {
     "data": {
      "text/plain": [
       "'AHSE'"
      ]
     },
     "execution_count": 190,
     "metadata": {},
     "output_type": "execute_result"
    }
   ],
   "source": [
    "name[0::2]"
   ]
  },
  {
   "cell_type": "markdown",
   "metadata": {},
   "source": [
    "# String functions"
   ]
  },
  {
   "cell_type": "code",
   "execution_count": 191,
   "metadata": {},
   "outputs": [
    {
     "data": {
      "text/plain": [
       "'once upon a time there was a boy named abhishek'"
      ]
     },
     "execution_count": 191,
     "metadata": {},
     "output_type": "execute_result"
    }
   ],
   "source": [
    "story=\"once upon a time there was a boy named abhishek\"\n",
    "story"
   ]
  },
  {
   "cell_type": "code",
   "execution_count": 192,
   "metadata": {},
   "outputs": [
    {
     "name": "stdout",
     "output_type": "stream",
     "text": [
      "47\n"
     ]
    }
   ],
   "source": [
    "# String Functions\n",
    "print(len(story))"
   ]
  },
  {
   "cell_type": "code",
   "execution_count": 193,
   "metadata": {},
   "outputs": [
    {
     "name": "stdout",
     "output_type": "stream",
     "text": [
      "True\n"
     ]
    }
   ],
   "source": [
    "print(story.endswith(\"abhishek\"))"
   ]
  },
  {
   "cell_type": "code",
   "execution_count": 194,
   "metadata": {},
   "outputs": [
    {
     "name": "stdout",
     "output_type": "stream",
     "text": [
      "False\n"
     ]
    }
   ],
   "source": [
    "print(story.endswith(\"raturi\"))"
   ]
  },
  {
   "cell_type": "code",
   "execution_count": 195,
   "metadata": {},
   "outputs": [
    {
     "name": "stdout",
     "output_type": "stream",
     "text": [
      "5\n"
     ]
    }
   ],
   "source": [
    "print(story.count(\"a\"))"
   ]
  },
  {
   "cell_type": "code",
   "execution_count": 196,
   "metadata": {},
   "outputs": [
    {
     "name": "stdout",
     "output_type": "stream",
     "text": [
      "1\n"
     ]
    }
   ],
   "source": [
    "print(story.count(\"abhishek\"))"
   ]
  },
  {
   "cell_type": "code",
   "execution_count": 197,
   "metadata": {},
   "outputs": [
    {
     "name": "stdout",
     "output_type": "stream",
     "text": [
      "1\n"
     ]
    }
   ],
   "source": [
    "print(story.count(\"abhi\"))"
   ]
  },
  {
   "cell_type": "code",
   "execution_count": 198,
   "metadata": {},
   "outputs": [
    {
     "name": "stdout",
     "output_type": "stream",
     "text": [
      "Once upon a time there was a boy named abhishek\n"
     ]
    }
   ],
   "source": [
    "# First letter will be capitalized\n",
    "print(story.capitalize())"
   ]
  },
  {
   "cell_type": "code",
   "execution_count": 199,
   "metadata": {},
   "outputs": [
    {
     "name": "stdout",
     "output_type": "stream",
     "text": [
      "39\n"
     ]
    }
   ],
   "source": [
    "print(story.find(\"abhi\"))"
   ]
  },
  {
   "cell_type": "code",
   "execution_count": 200,
   "metadata": {},
   "outputs": [
    {
     "name": "stdout",
     "output_type": "stream",
     "text": [
      "-1\n"
     ]
    }
   ],
   "source": [
    "print(story.find(\"Abhi\"))"
   ]
  },
  {
   "cell_type": "code",
   "execution_count": 201,
   "metadata": {},
   "outputs": [
    {
     "name": "stdout",
     "output_type": "stream",
     "text": [
      "0\n"
     ]
    }
   ],
   "source": [
    "# Finds only the first occurence and returns its ondex\n",
    "print(story.find(\"once\"))"
   ]
  },
  {
   "cell_type": "code",
   "execution_count": 202,
   "metadata": {},
   "outputs": [
    {
     "name": "stdout",
     "output_type": "stream",
     "text": [
      "once upon a time there was a boy named harry\n"
     ]
    }
   ],
   "source": [
    "# Replaces all the occurences\n",
    "print(story.replace(\"abhishek\",\"harry\"))"
   ]
  },
  {
   "cell_type": "markdown",
   "metadata": {},
   "source": [
    "# Escape sequence characters"
   ]
  },
  {
   "cell_type": "code",
   "execution_count": 203,
   "metadata": {},
   "outputs": [
    {
     "name": "stdout",
     "output_type": "stream",
     "text": [
      "Harry styles. He is a singer\n"
     ]
    }
   ],
   "source": [
    "story=\"Harry styles. He is a singer\"\n",
    "print(story)"
   ]
  },
  {
   "cell_type": "code",
   "execution_count": 204,
   "metadata": {},
   "outputs": [
    {
     "name": "stdout",
     "output_type": "stream",
     "text": [
      "Harry styles. \n",
      " He \t is a singer\n"
     ]
    }
   ],
   "source": [
    "story=\"Harry styles. \\n He \\t is a singer\"\n",
    "print(story)"
   ]
  },
  {
   "cell_type": "code",
   "execution_count": 205,
   "metadata": {},
   "outputs": [
    {
     "name": "stdout",
     "output_type": "stream",
     "text": [
      "Harry styles. He is a \\singer\n"
     ]
    }
   ],
   "source": [
    "story=\"Harry styles. He is a \\\\singer\"\n",
    "print(story)"
   ]
  },
  {
   "cell_type": "markdown",
   "metadata": {},
   "source": [
    "# Practise set with Strings"
   ]
  },
  {
   "cell_type": "code",
   "execution_count": 206,
   "metadata": {},
   "outputs": [
    {
     "name": "stdout",
     "output_type": "stream",
     "text": [
      "Enter your name : abhishek\n",
      "Good Morning,  abhishek\n",
      "Good Morning, abhishek\n"
     ]
    }
   ],
   "source": [
    "# Problem 1\n",
    "user=input(\"Enter your name : \")\n",
    "print(\"Good Morning, \",user)\n",
    "print(\"Good Morning, \"+user)"
   ]
  },
  {
   "cell_type": "code",
   "execution_count": 207,
   "metadata": {},
   "outputs": [
    {
     "name": "stdout",
     "output_type": "stream",
     "text": [
      "Enter your name \n",
      ": abhishek\n",
      "Enter date :\n",
      " 2 nov 2021\n"
     ]
    },
    {
     "data": {
      "text/plain": [
       "'Dear <|Name|>,\\nYou are selected!\\n\\nDate: 2 nov 2021\\n'"
      ]
     },
     "execution_count": 207,
     "metadata": {},
     "output_type": "execute_result"
    }
   ],
   "source": [
    "# Problem 2 - Letter template\n",
    "letter='''Dear <|Name|>,\n",
    "You are selected!\n",
    "\n",
    "Date: <|Date|>\n",
    "'''\n",
    "name=input(\"Enter your name \\n: \")\n",
    "date=input(\"Enter date :\\n \")\n",
    "letter.replace(\"<|Name|>\",name)\n",
    "letter.replace(\"<|Date|>\",date)"
   ]
  },
  {
   "cell_type": "code",
   "execution_count": 208,
   "metadata": {},
   "outputs": [
    {
     "name": "stdout",
     "output_type": "stream",
     "text": [
      "Dear <|Name|>,\n",
      "You are selected!\n",
      "\n",
      "Date: <|Date|>\n",
      "\n"
     ]
    }
   ],
   "source": [
    "# it did not change because it does not replaces in the actual string\n",
    "print(letter)"
   ]
  },
  {
   "cell_type": "code",
   "execution_count": 209,
   "metadata": {},
   "outputs": [
    {
     "name": "stdout",
     "output_type": "stream",
     "text": [
      "Enter your name \n",
      ": abhishek\n",
      "Enter date :\n",
      " 2 Nov 2021\n",
      "\n",
      "\n",
      "\n",
      "\n",
      "Dear abhishek,\n",
      "You are selected!\n",
      "\n",
      "Date: 2 Nov 2021\n",
      "\n"
     ]
    }
   ],
   "source": [
    "# you have to use letter=letter.replace\n",
    "# Problem 2 - Letter template\n",
    "letter='''Dear <|Name|>,\n",
    "You are selected!\n",
    "\n",
    "Date: <|Date|>\n",
    "'''\n",
    "name=input(\"Enter your name \\n: \")\n",
    "date=input(\"Enter date :\\n \")\n",
    "letter=letter.replace(\"<|Name|>\",name)\n",
    "letter=letter.replace(\"<|Date|>\",date)\n",
    "print(\"\\n\\n\\n\")\n",
    "print(letter)"
   ]
  },
  {
   "cell_type": "code",
   "execution_count": 210,
   "metadata": {},
   "outputs": [
    {
     "name": "stdout",
     "output_type": "stream",
     "text": [
      "Double spaces are present at index :  28\n"
     ]
    }
   ],
   "source": [
    "#Problem 3 - Detect double spaces in a string\n",
    "str=\"This is a string with double  spaces\"\n",
    "c=str.find(\"  \")\n",
    "if c==-1:\n",
    "    print(\"Double spaces not present\")\n",
    "else:\n",
    "    print(\"Double spaces are present at index : \",c)\n",
    "\n"
   ]
  },
  {
   "cell_type": "code",
   "execution_count": 211,
   "metadata": {},
   "outputs": [
    {
     "name": "stdout",
     "output_type": "stream",
     "text": [
      "This is a string with double  spaces\n",
      "This is a string with double spaces\n"
     ]
    }
   ],
   "source": [
    "#Problem 4 - Replace double spaces in the above string with single spaces\n",
    "str=\"This is a string with double  spaces\"\n",
    "print(str)\n",
    "str=str.replace(\"  \",\" \")\n",
    "print(str)"
   ]
  },
  {
   "cell_type": "code",
   "execution_count": 212,
   "metadata": {},
   "outputs": [
    {
     "name": "stdout",
     "output_type": "stream",
     "text": [
      "Dear Harry, This python course is nice.Thanks!\n",
      "\n",
      "\n",
      "\n",
      "\n",
      "Dear Harry,\n",
      "\n",
      "This python course is nice.\n",
      "\n",
      "Thanks!\n"
     ]
    }
   ],
   "source": [
    "#Problem 5 - To format the below string using escape sequence characters\n",
    "letter1=\"Dear Harry, This python course is nice.Thanks!\"\n",
    "letter2=\"Dear Harry,\\n\\nThis python course is nice.\\n\\nThanks!\"\n",
    "print(letter1)\n",
    "print(\"\\n\\n\\n\")\n",
    "print(letter2)"
   ]
  },
  {
   "cell_type": "markdown",
   "metadata": {},
   "source": [
    "# Chapter 4 - List and Tuples"
   ]
  },
  {
   "cell_type": "markdown",
   "metadata": {},
   "source": [
    "# List"
   ]
  },
  {
   "cell_type": "code",
   "execution_count": 213,
   "metadata": {},
   "outputs": [
    {
     "name": "stdout",
     "output_type": "stream",
     "text": [
      "[1, 2, 3, 4, 57, 6]\n"
     ]
    }
   ],
   "source": [
    "#Lists\n",
    "# List stores list of values of any data types\n",
    "a=[1,2,3,4,57,6]\n",
    "print(a)"
   ]
  },
  {
   "cell_type": "code",
   "execution_count": 214,
   "metadata": {},
   "outputs": [
    {
     "data": {
      "text/plain": [
       "57"
      ]
     },
     "execution_count": 214,
     "metadata": {},
     "output_type": "execute_result"
    }
   ],
   "source": [
    "a[4]"
   ]
  },
  {
   "cell_type": "code",
   "execution_count": 215,
   "metadata": {},
   "outputs": [],
   "source": [
    "a[0]=98"
   ]
  },
  {
   "cell_type": "code",
   "execution_count": 216,
   "metadata": {},
   "outputs": [
    {
     "name": "stdout",
     "output_type": "stream",
     "text": [
      "[98, 2, 3, 4, 57, 6]\n"
     ]
    }
   ],
   "source": [
    "print(a)"
   ]
  },
  {
   "cell_type": "code",
   "execution_count": 217,
   "metadata": {},
   "outputs": [
    {
     "name": "stdout",
     "output_type": "stream",
     "text": [
      "[1, 'harry', 9.8]\n"
     ]
    }
   ],
   "source": [
    "a=[1,\"harry\",9.8]\n",
    "print(a)"
   ]
  },
  {
   "cell_type": "markdown",
   "metadata": {},
   "source": [
    "# List Slicing"
   ]
  },
  {
   "cell_type": "code",
   "execution_count": 218,
   "metadata": {},
   "outputs": [
    {
     "name": "stdout",
     "output_type": "stream",
     "text": [
      "[1, 'harry', 9.8]\n"
     ]
    }
   ],
   "source": [
    "print(a[0:])"
   ]
  },
  {
   "cell_type": "code",
   "execution_count": 219,
   "metadata": {},
   "outputs": [
    {
     "name": "stdout",
     "output_type": "stream",
     "text": [
      "[1, 'harry']\n"
     ]
    }
   ],
   "source": [
    "print(a[0:2])"
   ]
  },
  {
   "cell_type": "code",
   "execution_count": 220,
   "metadata": {},
   "outputs": [
    {
     "name": "stdout",
     "output_type": "stream",
     "text": [
      "[1, 'harry', 9.8]\n"
     ]
    }
   ],
   "source": [
    "print(a[-3:])"
   ]
  },
  {
   "cell_type": "markdown",
   "metadata": {},
   "source": [
    "# List Methods"
   ]
  },
  {
   "cell_type": "code",
   "execution_count": 221,
   "metadata": {},
   "outputs": [],
   "source": [
    "l1= [1,5,23,7,8,3,5,0,6]"
   ]
  },
  {
   "cell_type": "code",
   "execution_count": 222,
   "metadata": {},
   "outputs": [
    {
     "name": "stdout",
     "output_type": "stream",
     "text": [
      "None\n"
     ]
    }
   ],
   "source": [
    "li_sorted=l1.sort()  # will not work\n",
    "print(li_sorted)"
   ]
  },
  {
   "cell_type": "code",
   "execution_count": 223,
   "metadata": {},
   "outputs": [
    {
     "name": "stdout",
     "output_type": "stream",
     "text": [
      "[0, 1, 3, 5, 5, 6, 7, 8, 23]\n"
     ]
    }
   ],
   "source": [
    "l1.sort()\n",
    "print(l1)"
   ]
  },
  {
   "cell_type": "code",
   "execution_count": 224,
   "metadata": {},
   "outputs": [
    {
     "name": "stdout",
     "output_type": "stream",
     "text": [
      "[0, 1, 3, 5, 5, 6, 7, 8, 23, 7]\n"
     ]
    }
   ],
   "source": [
    "#append list - adds at the end of the list\n",
    "\n",
    "l1.append(7)\n",
    "print(l1)\n"
   ]
  },
  {
   "cell_type": "code",
   "execution_count": 225,
   "metadata": {},
   "outputs": [
    {
     "name": "stdout",
     "output_type": "stream",
     "text": [
      "[100, 0, 1, 3, 5, 5, 6, 7, 8, 23, 7]\n"
     ]
    }
   ],
   "source": [
    "# list insert - insert at index\n",
    "l1.insert(0,100) # insert 100 at 0 th index\n",
    "print(l1)"
   ]
  },
  {
   "cell_type": "code",
   "execution_count": 226,
   "metadata": {},
   "outputs": [
    {
     "name": "stdout",
     "output_type": "stream",
     "text": [
      "[100, 0, 3, 5, 5, 6, 7, 8, 23, 7]\n"
     ]
    }
   ],
   "source": [
    "# pop \n",
    "l1.pop(2) # removes element from 2 nd index\n",
    "print(l1)"
   ]
  },
  {
   "cell_type": "code",
   "execution_count": 227,
   "metadata": {},
   "outputs": [
    {
     "name": "stdout",
     "output_type": "stream",
     "text": [
      "[0, 3, 5, 5, 6, 7, 8, 23, 7]\n"
     ]
    }
   ],
   "source": [
    "#remove \n",
    "l1.remove(100) # remove the element\n",
    "print(l1)"
   ]
  },
  {
   "cell_type": "code",
   "execution_count": 228,
   "metadata": {},
   "outputs": [
    {
     "name": "stdout",
     "output_type": "stream",
     "text": [
      "[7, 23, 8, 7, 6, 5, 5, 3, 0]\n"
     ]
    }
   ],
   "source": [
    "#reverse\n",
    "l1.reverse() # reverse the list\n",
    "print(l1)"
   ]
  },
  {
   "cell_type": "markdown",
   "metadata": {},
   "source": [
    "# Tuples"
   ]
  },
  {
   "cell_type": "code",
   "execution_count": 229,
   "metadata": {},
   "outputs": [
    {
     "name": "stdout",
     "output_type": "stream",
     "text": [
      "8\n"
     ]
    }
   ],
   "source": [
    "t=(1,7,3,8)\n",
    "print(t[3])"
   ]
  },
  {
   "cell_type": "code",
   "execution_count": 230,
   "metadata": {},
   "outputs": [],
   "source": [
    "# Cannot update tuples, is immutable\n",
    "# mutation means to change\n",
    "# Once tuple is defined, we cannot change it\n",
    "# t[0]=34 # will not work"
   ]
  },
  {
   "cell_type": "code",
   "execution_count": 231,
   "metadata": {},
   "outputs": [
    {
     "name": "stdout",
     "output_type": "stream",
     "text": [
      "()\n",
      "1\n",
      "(1,)\n",
      "(5, 3, 9, 9)\n"
     ]
    }
   ],
   "source": [
    "a=() # empty tiple\n",
    "b=(1) # wrong way to create a tuple with single element\n",
    "c=(1,) # tuple with one element needs a comma, not needed when using jupyter but will be needed when using idle\n",
    "d=(5,3,9,9) # tuple with multiple element\n",
    "print(a)\n",
    "print(b)\n",
    "print(c)\n",
    "print(d)"
   ]
  },
  {
   "cell_type": "markdown",
   "metadata": {},
   "source": [
    "# Tuples Method"
   ]
  },
  {
   "cell_type": "code",
   "execution_count": 232,
   "metadata": {},
   "outputs": [
    {
     "data": {
      "text/plain": [
       "5"
      ]
     },
     "execution_count": 232,
     "metadata": {},
     "output_type": "execute_result"
    }
   ],
   "source": [
    "t1=(1,5,1,8,1,9,1,10,53,1)\n",
    "t1.count(1) # count the occurence of element 1 in the tuple"
   ]
  },
  {
   "cell_type": "code",
   "execution_count": 233,
   "metadata": {},
   "outputs": [
    {
     "data": {
      "text/plain": [
       "0"
      ]
     },
     "execution_count": 233,
     "metadata": {},
     "output_type": "execute_result"
    }
   ],
   "source": [
    "t1.index(1) # returns the index of the element in the tuple, the first occurence"
   ]
  },
  {
   "cell_type": "markdown",
   "metadata": {},
   "source": [
    "# Lists and Tuples - Practise "
   ]
  },
  {
   "cell_type": "code",
   "execution_count": 234,
   "metadata": {},
   "outputs": [
    {
     "name": "stdout",
     "output_type": "stream",
     "text": [
      "Enter fruit name : mango\n",
      "Enter fruit name : banana\n",
      "Enter fruit name : apple\n",
      "['mango', 'banana', 'apple']\n"
     ]
    }
   ],
   "source": [
    "# Q1 - store 3 fruits in a list entered by user\n",
    "fruits=[]\n",
    "for i in range(3):\n",
    "    a=input(\"Enter fruit name : \")\n",
    "    fruits.append(a)\n",
    "print(fruits)\n",
    "    "
   ]
  },
  {
   "cell_type": "code",
   "execution_count": 235,
   "metadata": {},
   "outputs": [
    {
     "name": "stdout",
     "output_type": "stream",
     "text": [
      "Enter marks for student: 12\n",
      "Enter marks for student: 67\n",
      "Enter marks for student: 45\n",
      "Enter marks for student: 56\n",
      "Enter marks for student: 65\n",
      "Marks sorted are :  [12, 45, 56, 65, 67]\n"
     ]
    }
   ],
   "source": [
    "# Q2 - Display marks of 5 students in a sorted manner\n",
    "marks=[]\n",
    "for i in range(5):\n",
    "    a=int(input(\"Enter marks for student: \"))\n",
    "    marks.append(a)\n",
    "    \n",
    "marks.sort()\n",
    "print(\"Marks sorted are : \",marks)\n",
    "    \n"
   ]
  },
  {
   "cell_type": "code",
   "execution_count": 236,
   "metadata": {},
   "outputs": [
    {
     "name": "stdout",
     "output_type": "stream",
     "text": [
      "sum is :  30\n"
     ]
    }
   ],
   "source": [
    "#Q3 - add a list of 4 numbers\n",
    "a=[4,7,10,9]\n",
    "sum=0\n",
    "for i in range(4):\n",
    "    sum=sum + a[i]\n",
    "print(\"sum is : \",sum)"
   ]
  },
  {
   "cell_type": "code",
   "execution_count": 237,
   "metadata": {},
   "outputs": [
    {
     "name": "stdout",
     "output_type": "stream",
     "text": [
      "number of zeros in the tuple are :  3\n"
     ]
    }
   ],
   "source": [
    "# Q3 - find the number of zeros in the tuple\n",
    "z=(7,0,8,0,0,9)\n",
    "count=0\n",
    "r=len(z)\n",
    "for i in range(r):\n",
    "    if z[i]==0:\n",
    "        count=count+1\n",
    "print(\"number of zeros in the tuple are : \",count)\n",
    "        "
   ]
  },
  {
   "cell_type": "code",
   "execution_count": 238,
   "metadata": {},
   "outputs": [
    {
     "name": "stdout",
     "output_type": "stream",
     "text": [
      "3\n"
     ]
    }
   ],
   "source": [
    "# Q3 - find the number of zeros in the tuple using function\n",
    "z=(7,0,8,0,0,9)\n",
    "print(z.count(0))"
   ]
  },
  {
   "cell_type": "markdown",
   "metadata": {},
   "source": [
    "# Chapter 5 - Dictionary and Sets"
   ]
  },
  {
   "cell_type": "code",
   "execution_count": 239,
   "metadata": {},
   "outputs": [
    {
     "name": "stdout",
     "output_type": "stream",
     "text": [
      "{'Harry': 'Styles', 'abhi': 'raturi', 'ishan': 'khan', 'kate': 'winslet', 'marks': [34, 45, 76], 'anotherDict': {'marks1': [45, 87, 90]}, 'a': (1, 5, 2)}\n"
     ]
    }
   ],
   "source": [
    "#Dictionary - collection of key value pairs\n",
    "\n",
    "myDict={\"Harry\":\"Styles\",\n",
    "        \"abhi\":\"raturi\",\n",
    "        \"ishan\":\"khan\",\n",
    "        \"kate\":\"winslet\",\n",
    "        \"marks\":[34,45,76],\n",
    "        \"anotherDict\":{\"marks1\":[45,87,90]},\n",
    "        \"a\":(1,5,2)\n",
    "       }\n",
    "print(myDict)"
   ]
  },
  {
   "cell_type": "code",
   "execution_count": 240,
   "metadata": {},
   "outputs": [
    {
     "name": "stdout",
     "output_type": "stream",
     "text": [
      "raturi\n",
      "[34, 45, 76]\n",
      "{'marks1': [45, 87, 90]}\n",
      "[45, 87, 90]\n",
      "(1, 5, 2)\n"
     ]
    }
   ],
   "source": [
    "# printing corresponding value\n",
    "print(myDict['abhi'])\n",
    "print(myDict['marks'])\n",
    "print(myDict['anotherDict'])\n",
    "print(myDict['anotherDict']['marks1'])\n",
    "print(myDict['a'])"
   ]
  },
  {
   "cell_type": "markdown",
   "metadata": {},
   "source": [
    "# Properties of Dictionaries"
   ]
  },
  {
   "cell_type": "code",
   "execution_count": 241,
   "metadata": {},
   "outputs": [],
   "source": [
    "# unordered\n",
    "# mutable\n",
    "# indexed\n",
    "# cannot contain duplicate keys"
   ]
  },
  {
   "cell_type": "markdown",
   "metadata": {},
   "source": [
    "# Dictionary Methods"
   ]
  },
  {
   "cell_type": "code",
   "execution_count": 242,
   "metadata": {},
   "outputs": [],
   "source": [
    "myDict={\"Harry\":\"Styles\",\n",
    "        \"abhi\":\"raturi\",\n",
    "        \"ishan\":\"khan\",\n",
    "        \"kate\":\"winslet\",\n",
    "        \"marks\":[34,45,76],\n",
    "        \"anotherDict\":{\"marks1\":[45,87,90]},\n",
    "        \"a\":(1,5,2)\n",
    "       }"
   ]
  },
  {
   "cell_type": "code",
   "execution_count": 243,
   "metadata": {},
   "outputs": [
    {
     "data": {
      "text/plain": [
       "dict_keys(['Harry', 'abhi', 'ishan', 'kate', 'marks', 'anotherDict', 'a'])"
      ]
     },
     "execution_count": 243,
     "metadata": {},
     "output_type": "execute_result"
    }
   ],
   "source": [
    "myDict.keys() # prints all the keys in the dicitinary"
   ]
  },
  {
   "cell_type": "code",
   "execution_count": 244,
   "metadata": {},
   "outputs": [
    {
     "data": {
      "text/plain": [
       "dict_values(['Styles', 'raturi', 'khan', 'winslet', [34, 45, 76], {'marks1': [45, 87, 90]}, (1, 5, 2)])"
      ]
     },
     "execution_count": 244,
     "metadata": {},
     "output_type": "execute_result"
    }
   ],
   "source": [
    "myDict.values() # prints all the values in the dicitinary"
   ]
  },
  {
   "cell_type": "code",
   "execution_count": 245,
   "metadata": {},
   "outputs": [
    {
     "data": {
      "text/plain": [
       "dict_items([('Harry', 'Styles'), ('abhi', 'raturi'), ('ishan', 'khan'), ('kate', 'winslet'), ('marks', [34, 45, 76]), ('anotherDict', {'marks1': [45, 87, 90]}), ('a', (1, 5, 2))])"
      ]
     },
     "execution_count": 245,
     "metadata": {},
     "output_type": "execute_result"
    }
   ],
   "source": [
    "myDict.items() # prints all the contents in the dicitinary"
   ]
  },
  {
   "cell_type": "code",
   "execution_count": 246,
   "metadata": {},
   "outputs": [
    {
     "data": {
      "text/plain": [
       "{'Harry': 'Styles',\n",
       " 'abhi': 'raturi',\n",
       " 'ishan': 'khan',\n",
       " 'kate': 'winslet',\n",
       " 'marks': [34, 45, 76],\n",
       " 'anotherDict': {'marks1': [45, 87, 90]},\n",
       " 'a': (1, 5, 2),\n",
       " 'Lovish': 'Friend'}"
      ]
     },
     "execution_count": 246,
     "metadata": {},
     "output_type": "execute_result"
    }
   ],
   "source": [
    "updateDict={\"Lovish\":\"Friend\"\n",
    "}\n",
    "myDict.update(updateDict)  # updates the dictionary with the key value pair at last\n",
    "myDict"
   ]
  },
  {
   "cell_type": "code",
   "execution_count": 247,
   "metadata": {},
   "outputs": [
    {
     "data": {
      "text/plain": [
       "{'Harry': 'Potter',\n",
       " 'abhi': 'raturi',\n",
       " 'ishan': 'khan',\n",
       " 'kate': 'winslet',\n",
       " 'marks': [34, 45, 76],\n",
       " 'anotherDict': {'marks1': [45, 87, 90]},\n",
       " 'a': (1, 5, 2),\n",
       " 'Lovish': 'Friend'}"
      ]
     },
     "execution_count": 247,
     "metadata": {},
     "output_type": "execute_result"
    }
   ],
   "source": [
    "updateDict={\"Harry\":\"Potter\"\n",
    "}\n",
    "myDict.update(updateDict)  # updates the dictionary with the layest value of \"Harry\" as \n",
    "                           #we can only have a unique key and therefore only one value corresponng to that key\n",
    "myDict"
   ]
  },
  {
   "cell_type": "code",
   "execution_count": 248,
   "metadata": {},
   "outputs": [],
   "source": [
    "# Why we use get method instead of myDict[\"Harry\"]\n",
    "\n",
    "#print(myDict[\"Harry2\"])  # will throw error because key is not present\n",
    "myDict.get(\"Harry2\")  # will not throw error even when key is not present and therefore it is recommended to use get method"
   ]
  },
  {
   "cell_type": "markdown",
   "metadata": {},
   "source": [
    "# Sets"
   ]
  },
  {
   "cell_type": "code",
   "execution_count": 249,
   "metadata": {},
   "outputs": [
    {
     "name": "stdout",
     "output_type": "stream",
     "text": [
      "{1, 3, 6}\n",
      "<class 'set'>\n"
     ]
    }
   ],
   "source": [
    "# Sets does not contain repetitive items\n",
    "# Set is a collection of unique elements (no repetition of items)\n",
    "a={1,6,3,6}\n",
    "print(a)\n",
    "print(type(a))"
   ]
  },
  {
   "cell_type": "code",
   "execution_count": 250,
   "metadata": {},
   "outputs": [
    {
     "name": "stdout",
     "output_type": "stream",
     "text": [
      "<class 'dict'>\n"
     ]
    }
   ],
   "source": [
    "b={}  # this will create empty dictionary and not an empty set\n",
    "print(type(b))"
   ]
  },
  {
   "cell_type": "code",
   "execution_count": 251,
   "metadata": {},
   "outputs": [
    {
     "name": "stdout",
     "output_type": "stream",
     "text": [
      "<class 'set'>\n"
     ]
    }
   ],
   "source": [
    "# creating empty set \n",
    "c=set()\n",
    "print(type(c))"
   ]
  },
  {
   "cell_type": "markdown",
   "metadata": {},
   "source": [
    "# methods in sets\n"
   ]
  },
  {
   "cell_type": "code",
   "execution_count": 252,
   "metadata": {},
   "outputs": [],
   "source": [
    "c=set()"
   ]
  },
  {
   "cell_type": "code",
   "execution_count": 253,
   "metadata": {},
   "outputs": [
    {
     "name": "stdout",
     "output_type": "stream",
     "text": [
      "{8, 4, 5}\n"
     ]
    }
   ],
   "source": [
    "c.add(4) # adding elements to set\n",
    "c.add(5)\n",
    "c.add(8)\n",
    "print(c)"
   ]
  },
  {
   "cell_type": "code",
   "execution_count": 254,
   "metadata": {},
   "outputs": [
    {
     "name": "stdout",
     "output_type": "stream",
     "text": [
      "{1, 5, 9}\n"
     ]
    }
   ],
   "source": [
    "# creating a set\n",
    "s={1,5,5,9}\n",
    "print(s)"
   ]
  },
  {
   "cell_type": "code",
   "execution_count": 255,
   "metadata": {},
   "outputs": [
    {
     "name": "stdout",
     "output_type": "stream",
     "text": [
      "{8, 4, 5, (10, 12)}\n"
     ]
    }
   ],
   "source": [
    "#cannot add list inside a set\n",
    "#c.add([5,6]) # will not work,cannot add list inside a set\n",
    "c.add((10,12)) # you can add a tuple inside a set\n",
    "print(c)\n",
    "#c.add({\"h\":\"wer\"}) # will not work,cannot add dictionary inside a set"
   ]
  },
  {
   "cell_type": "code",
   "execution_count": 256,
   "metadata": {},
   "outputs": [
    {
     "name": "stdout",
     "output_type": "stream",
     "text": [
      "4\n"
     ]
    }
   ],
   "source": [
    "print(len(c)) # returns length of set"
   ]
  },
  {
   "cell_type": "code",
   "execution_count": 257,
   "metadata": {},
   "outputs": [
    {
     "name": "stdout",
     "output_type": "stream",
     "text": [
      "{8, 4, (10, 12)}\n"
     ]
    }
   ],
   "source": [
    "c.remove(5) # removes the element 5 from the set\n",
    "print(c)"
   ]
  },
  {
   "cell_type": "code",
   "execution_count": 258,
   "metadata": {},
   "outputs": [
    {
     "name": "stdout",
     "output_type": "stream",
     "text": [
      "{4, (10, 12)}\n"
     ]
    }
   ],
   "source": [
    "c.pop() # removes a random value from the set\n",
    "print(c)"
   ]
  },
  {
   "cell_type": "code",
   "execution_count": 259,
   "metadata": {},
   "outputs": [
    {
     "name": "stdout",
     "output_type": "stream",
     "text": [
      "{9, 10, 4, 5}\n"
     ]
    },
    {
     "data": {
      "text/plain": [
       "{4, 5, 9, 10}"
      ]
     },
     "execution_count": 259,
     "metadata": {},
     "output_type": "execute_result"
    }
   ],
   "source": [
    "d=set()\n",
    "d.add(4)\n",
    "d.add(10)\n",
    "d.add(5)\n",
    "d.add(9)\n",
    "print(d)\n",
    "d.union() # union of set\n"
   ]
  },
  {
   "cell_type": "code",
   "execution_count": 260,
   "metadata": {},
   "outputs": [
    {
     "name": "stdout",
     "output_type": "stream",
     "text": [
      "set()\n"
     ]
    }
   ],
   "source": [
    "d.clear() # removes all the  elements of the set\n",
    "print(d)"
   ]
  },
  {
   "cell_type": "markdown",
   "metadata": {},
   "source": [
    "# Properties of Sets"
   ]
  },
  {
   "cell_type": "code",
   "execution_count": 261,
   "metadata": {},
   "outputs": [],
   "source": [
    "# Sets are unoredered i.e. cannot say return first or third selement and so on\n",
    "# sets are indexed i.e. cannot access the elements using index\n",
    "# cannot change items in a set\n",
    "# cannot contain duplicate values"
   ]
  },
  {
   "cell_type": "markdown",
   "metadata": {},
   "source": [
    "# Sets - Practice Problems"
   ]
  },
  {
   "cell_type": "code",
   "execution_count": 262,
   "metadata": {},
   "outputs": [
    {
     "name": "stdout",
     "output_type": "stream",
     "text": [
      "Your options for entering a word are : dict_keys(['dabba', 'pankha', 'vastu'])\n",
      "Enter a hindi word : pankha\n",
      "Meaning of hindi word entered is :  fan\n"
     ]
    }
   ],
   "source": [
    "# Q1 - crate a dictionary and when user search for a word he/she will get the meaning of th word\n",
    "dict={\n",
    "      \"dabba\":\"box\",\n",
    "      \"pankha\":\"fan\",\n",
    "      \"vastu\":\"item\"\n",
    "     }\n",
    "print(\"Your options for entering a word are :\",dict.keys())\n",
    "word=input(\"Enter a hindi word : \")\n",
    "print(\"Meaning of hindi word entered is : \",dict.get(word))"
   ]
  },
  {
   "cell_type": "code",
   "execution_count": 263,
   "metadata": {},
   "outputs": [
    {
     "name": "stdout",
     "output_type": "stream",
     "text": [
      "Enter number23\n",
      "Enter number34\n",
      "Enter number54\n",
      "Unique numbers are :  {34, 54, 23}\n"
     ]
    }
   ],
   "source": [
    "# Q2 - input 3 numbers from user and display unique numbers \n",
    "a=set()\n",
    "for i in range(3):\n",
    "    numbers=int(input(\"Enter number\"))\n",
    "    a.add(numbers)\n",
    "print(\"Unique numbers are : \", a)\n"
   ]
  },
  {
   "cell_type": "code",
   "execution_count": 264,
   "metadata": {},
   "outputs": [
    {
     "name": "stdout",
     "output_type": "stream",
     "text": [
      "2\n"
     ]
    }
   ],
   "source": [
    "# Q3 - find the length of the set\n",
    "s=set()\n",
    "s.add(20)\n",
    "s.add(20.0)\n",
    "s.add(\"20\")\n",
    "print(len(s))\n"
   ]
  },
  {
   "cell_type": "code",
   "execution_count": 265,
   "metadata": {},
   "outputs": [
    {
     "name": "stdout",
     "output_type": "stream",
     "text": [
      "<class 'dict'>\n"
     ]
    }
   ],
   "source": [
    "# Q4 - What is the type of set?\n",
    "s={}  # its a dcitionary\n",
    "print(type(s))"
   ]
  },
  {
   "cell_type": "code",
   "execution_count": 266,
   "metadata": {},
   "outputs": [
    {
     "name": "stdout",
     "output_type": "stream",
     "text": [
      "enter your favourite language Shubham : java\n",
      "enter your favourite language Abhi : c++\n",
      "enter your favourite language sonali : python\n",
      "enter your favourite language anil : python\n",
      "{'Shubham': 'java', 'Abhi': 'c++', 'sonali': 'python', 'anil': 'python'}\n"
     ]
    }
   ],
   "source": [
    "# Q5 - create a dictionary for favourite languages\n",
    "favLang={}\n",
    "a=input(\"enter your favourite language Shubham : \")\n",
    "b=input(\"enter your favourite language Abhi : \")\n",
    "c=input(\"enter your favourite language sonali : \")\n",
    "d=input(\"enter your favourite language anil : \")\n",
    "favLang['Shubham']=a\n",
    "favLang['Abhi']=b\n",
    "favLang['sonali']=c\n",
    "favLang['anil']=d\n",
    "print(favLang)\n"
   ]
  },
  {
   "cell_type": "markdown",
   "metadata": {},
   "source": [
    "# Chapter 6 - Conditional Expression"
   ]
  },
  {
   "cell_type": "code",
   "execution_count": 267,
   "metadata": {},
   "outputs": [
    {
     "name": "stdout",
     "output_type": "stream",
     "text": [
      "a is less than or equal to 3\n"
     ]
    }
   ],
   "source": [
    "a=3\n",
    "if a>15:\n",
    "    print(\"a is greater than 15\")\n",
    "elif a>17:\n",
    "    print(\"a is greater than 17\")\n",
    "else:\n",
    "    print(\"a is less than or equal to 3\")\n",
    "    "
   ]
  },
  {
   "cell_type": "code",
   "execution_count": 268,
   "metadata": {},
   "outputs": [],
   "source": [
    "# Important points\n",
    "\n",
    "# can have any number of elif\n",
    "# last else executes when all the elif conditions fail\n",
    "# else is optional"
   ]
  },
  {
   "cell_type": "markdown",
   "metadata": {},
   "source": [
    "# If else elif - practice Problems"
   ]
  },
  {
   "cell_type": "code",
   "execution_count": 270,
   "metadata": {},
   "outputs": [
    {
     "name": "stdout",
     "output_type": "stream",
     "text": [
      "Enter number 1: 34\n",
      "Enter number 2: 567\n",
      "Enter number 3: 54\n",
      "Enter number 3: 67\n",
      "Greatest number is :  567\n"
     ]
    }
   ],
   "source": [
    "# Q1 - enter 4 numbers from a user and find the greatest\n",
    "\n",
    "num1=int(input(\"Enter number 1: \"))\n",
    "num2=int(input(\"Enter number 2: \"))\n",
    "num3=int(input(\"Enter number 3: \"))\n",
    "num4=int(input(\"Enter number 3: \"))\n",
    "if num1>num4:\n",
    "    f1=num1\n",
    "else:\n",
    "    f1=num4\n",
    "if num2>num3:\n",
    "    f2=num2\n",
    "else:\n",
    "    f2=num3\n",
    "if f1>f2:\n",
    "    print(\"Greatest number is : \",f1)\n",
    "else:\n",
    "    print(\"Greatest number is : \",f2)\n"
   ]
  },
  {
   "cell_type": "code",
   "execution_count": 271,
   "metadata": {},
   "outputs": [
    {
     "name": "stdout",
     "output_type": "stream",
     "text": [
      "Enter marks for subject 1 : 34\n",
      "Enter marks for subject 2 : 43\n",
      "Enter marks for subject 3 : 45\n",
      "Congrats, you passed\n"
     ]
    }
   ],
   "source": [
    "#Q2 - Enter three subject marks and print pass if total 40 % and 33 % in each subject\n",
    "sub1=int(input(\"Enter marks for subject 1 : \"))\n",
    "sub2=int(input(\"Enter marks for subject 2 : \"))\n",
    "sub3=int(input(\"Enter marks for subject 3 : \"))\n",
    "if (sub1<33 or sub2<33 or sub3<33):\n",
    "    print(\"Student failed\")\n",
    "if (sub1+sub2+sub3)/3 < 40:\n",
    "    print(\"You failed because your total percentage is less than 40\")\n",
    "else:\n",
    "    print(\"Congrats, you passed\")"
   ]
  },
  {
   "cell_type": "code",
   "execution_count": 272,
   "metadata": {},
   "outputs": [
    {
     "name": "stdout",
     "output_type": "stream",
     "text": [
      "Enter a text : watch this\n",
      "This text is spam\n"
     ]
    }
   ],
   "source": [
    "# Q3 - Write a program to detect a spam conatining the message\n",
    "text=input(\"Enter a text : \")\n",
    "spam=False\n",
    "if (\"make a lot of money\" in text):\n",
    "    spam=True\n",
    "elif (\"buy now\" in text):\n",
    "    spam=True\n",
    "elif (\"watch this\" in text):\n",
    "    spam=True\n",
    "else:\n",
    "    spam=False\n",
    "if (spam):\n",
    "    print(\"This text is spam\")\n",
    "else:\n",
    "    print(\"This text is not spam\")"
   ]
  },
  {
   "cell_type": "code",
   "execution_count": 273,
   "metadata": {},
   "outputs": [
    {
     "name": "stdout",
     "output_type": "stream",
     "text": [
      "Enter your name : \n",
      "abhi\n",
      "Your name has less than 10 characters\n"
     ]
    }
   ],
   "source": [
    "# Q4 - Find whether a given username contains less than 10 characters or not\n",
    "\n",
    "name=input(\"Enter your name : \\n\")\n",
    "if len(name)<10:\n",
    "    print(\"Your name has less than 10 characters\")\n",
    "elif len(name)==10:\n",
    "    print(\"Your name has 10 characters\")\n",
    "else:\n",
    "    print(\"Your name has more than 10 characters\")"
   ]
  },
  {
   "cell_type": "code",
   "execution_count": 274,
   "metadata": {},
   "outputs": [
    {
     "name": "stdout",
     "output_type": "stream",
     "text": [
      "Enter your name : \n",
      "abhishek\n",
      "Your name is present in the list\n"
     ]
    }
   ],
   "source": [
    "# Q5 - If the name entered is present in a list\n",
    "names=[\"abhishek\",\"rahul\",\"sarthak\",\"shipra\",\"shilpi\"]\n",
    "name=input(\"Enter your name : \\n\")\n",
    "if name in names:\n",
    "    print(\"Your name is present in the list\")\n",
    "else:\n",
    "    print(\"Your name is not present in the list\")"
   ]
  },
  {
   "cell_type": "code",
   "execution_count": 275,
   "metadata": {},
   "outputs": [
    {
     "name": "stdout",
     "output_type": "stream",
     "text": [
      "Enter marks : \n",
      "44\n",
      "Your grade is :  C\n"
     ]
    }
   ],
   "source": [
    "# Q6 - Calculate grades accoring to the marks\n",
    "marks=int(input(\"Enter marks : \\n\"))\n",
    "if marks>90:\n",
    "    grade=\"Excellent\"\n",
    "elif marks>=70:\n",
    "    grade=\"A\"\n",
    "elif marks>=60:\n",
    "    grade=\"B\"\n",
    "elif marks>=50:\n",
    "    grade=\"C\"\n",
    "elif marks>=40:\n",
    "    grade=\"C\"\n",
    "else:\n",
    "    grade=\"F\"\n",
    "print(\"Your grade is : \", grade)"
   ]
  },
  {
   "cell_type": "markdown",
   "metadata": {},
   "source": [
    "# Chapter 7 - Loops"
   ]
  },
  {
   "cell_type": "markdown",
   "metadata": {},
   "source": [
    "# while loop"
   ]
  },
  {
   "cell_type": "code",
   "execution_count": 3,
   "metadata": {},
   "outputs": [
    {
     "name": "stdout",
     "output_type": "stream",
     "text": [
      "2\n",
      "7\n",
      "45\n",
      "68\n",
      "698\n"
     ]
    }
   ],
   "source": [
    "l=[2,7,45,68,698]\n",
    "i=0\n",
    "while i<len(l):\n",
    "    print(l[i])\n",
    "    i=i+1"
   ]
  },
  {
   "cell_type": "markdown",
   "metadata": {},
   "source": [
    "# for loop"
   ]
  },
  {
   "cell_type": "code",
   "execution_count": 2,
   "metadata": {},
   "outputs": [
    {
     "name": "stdout",
     "output_type": "stream",
     "text": [
      "2\n",
      "7\n",
      "45\n",
      "68\n",
      "698\n"
     ]
    }
   ],
   "source": [
    "l=[2,7,45,68,698]\n",
    "for item in l:\n",
    "    print(item)"
   ]
  },
  {
   "cell_type": "code",
   "execution_count": 9,
   "metadata": {},
   "outputs": [
    {
     "name": "stdout",
     "output_type": "stream",
     "text": [
      "0\n",
      "1\n",
      "2\n",
      "3\n"
     ]
    }
   ],
   "source": [
    "#range function in for loop\n",
    "for i in range(4):\n",
    "    print(i)"
   ]
  },
  {
   "cell_type": "code",
   "execution_count": 10,
   "metadata": {},
   "outputs": [
    {
     "name": "stdout",
     "output_type": "stream",
     "text": [
      "1\n",
      "2\n",
      "3\n"
     ]
    }
   ],
   "source": [
    "for i in range(1,4):\n",
    "    print(i)"
   ]
  },
  {
   "cell_type": "code",
   "execution_count": 13,
   "metadata": {},
   "outputs": [
    {
     "name": "stdout",
     "output_type": "stream",
     "text": [
      "1\n",
      "3\n",
      "5\n"
     ]
    }
   ],
   "source": [
    "# step size in range function\n",
    "for i in range(1,6,2):\n",
    "    print(i)"
   ]
  },
  {
   "cell_type": "code",
   "execution_count": 21,
   "metadata": {},
   "outputs": [
    {
     "name": "stdout",
     "output_type": "stream",
     "text": [
      "0\n",
      "1\n",
      "2\n",
      "3\n",
      "4\n",
      "This is inside else of for\n"
     ]
    }
   ],
   "source": [
    "# for loop with else\n",
    "for i in range(5):\n",
    "    print(i)\n",
    "else:\n",
    "    print(\"This is inside else of for\")"
   ]
  },
  {
   "cell_type": "code",
   "execution_count": 25,
   "metadata": {},
   "outputs": [
    {
     "name": "stdout",
     "output_type": "stream",
     "text": [
      "0\n",
      "1\n",
      "2\n",
      "3\n"
     ]
    }
   ],
   "source": [
    "# break statement\n",
    "for i in range(10):\n",
    "    print(i)\n",
    "    if i==3:\n",
    "        break"
   ]
  },
  {
   "cell_type": "code",
   "execution_count": 26,
   "metadata": {},
   "outputs": [
    {
     "name": "stdout",
     "output_type": "stream",
     "text": [
      "0\n",
      "1\n",
      "2\n",
      "3\n"
     ]
    }
   ],
   "source": [
    "# else will print only when for loop executes fully,in this case it will \n",
    "# not as the break statement exits the for and else because else is also part of for loop\n",
    "for i in range(5):\n",
    "    print(i)\n",
    "    if i==3:\n",
    "        break\n",
    "else:\n",
    "    print(\"This is inside else of for\")"
   ]
  },
  {
   "cell_type": "code",
   "execution_count": 27,
   "metadata": {},
   "outputs": [
    {
     "name": "stdout",
     "output_type": "stream",
     "text": [
      "0\n",
      "1\n",
      "2\n",
      "4\n"
     ]
    }
   ],
   "source": [
    "# continue statement, skips the iteration\n",
    "for i in range(5):\n",
    "    if i==3:\n",
    "        continue\n",
    "    print(i)"
   ]
  },
  {
   "cell_type": "code",
   "execution_count": 28,
   "metadata": {},
   "outputs": [
    {
     "name": "stdout",
     "output_type": "stream",
     "text": [
      "Comeback to chack these above condition and work on it later\n"
     ]
    }
   ],
   "source": [
    "# pass statement , it is a null staement and means do nothing\n",
    "# when you do not know what to do with the condition and want to comeback later to do it you can mention pass\n",
    "# we cannot leave the statement empty as it will throw error  so we put a pass statement to avoid the error\n",
    "if i==3:\n",
    "    pass\n",
    "while i<2:\n",
    "    pass\n",
    "print(\"Comeback to chack these above condition and work on it later\")\n"
   ]
  },
  {
   "cell_type": "code",
   "execution_count": 29,
   "metadata": {},
   "outputs": [],
   "source": [
    "# pass statement with def\n",
    "def a():\n",
    "    pass"
   ]
  },
  {
   "cell_type": "markdown",
   "metadata": {},
   "source": [
    "# Loops - Practice Problems"
   ]
  },
  {
   "cell_type": "code",
   "execution_count": 32,
   "metadata": {},
   "outputs": [
    {
     "name": "stdout",
     "output_type": "stream",
     "text": [
      "Enter a number : 3\n",
      "Multiplication table of the entered number is : \n",
      "\n",
      "3X1=3\n",
      "3X2=6\n",
      "3X3=9\n",
      "3X4=12\n",
      "3X5=15\n",
      "3X6=18\n",
      "3X7=21\n",
      "3X8=24\n",
      "3X9=27\n",
      "3X10=30\n"
     ]
    }
   ],
   "source": [
    "#Q1 - mutliplication table of a given number\n",
    "num=int(input(\"Enter a number : \"))\n",
    "print(\"Multiplication table of the entered number is : \\n\")\n",
    "for i in range(1,11):\n",
    "    print(str(num)+ \"X\" + str(i) + \"=\" + str(i*num))"
   ]
  },
  {
   "cell_type": "code",
   "execution_count": 33,
   "metadata": {},
   "outputs": [
    {
     "name": "stdout",
     "output_type": "stream",
     "text": [
      "Enter a number : 5\n",
      "Multiplication table of the entered number is : \n",
      "\n",
      "5 X 1=5\n",
      "5 X 2=10\n",
      "5 X 3=15\n",
      "5 X 4=20\n",
      "5 X 5=25\n",
      "5 X 6=30\n",
      "5 X 7=35\n",
      "5 X 8=40\n",
      "5 X 9=45\n",
      "5 X 10=50\n"
     ]
    }
   ],
   "source": [
    "# using fstring\n",
    "num=int(input(\"Enter a number : \"))\n",
    "print(\"Multiplication table of the entered number is : \\n\")\n",
    "for i in range(1,11):\n",
    "    print(f\"{num} X {i}={num*i}\")"
   ]
  },
  {
   "cell_type": "code",
   "execution_count": 38,
   "metadata": {},
   "outputs": [
    {
     "name": "stdout",
     "output_type": "stream",
     "text": [
      "Hello :  Shivam\n",
      "Hello :  shubham\n"
     ]
    }
   ],
   "source": [
    "# Q2 - From the list of names, print a hello message to only the ones whose name starts with S\n",
    "names=[\"Shivam\",\"abhishek\",\"shubham\",\"zayn\",\"cat\"]\n",
    "for i in names:\n",
    "    if i.startswith(\"S\") or i.startswith(\"s\"):\n",
    "        print(\"Hello : \",i)"
   ]
  },
  {
   "cell_type": "code",
   "execution_count": 1,
   "metadata": {},
   "outputs": [
    {
     "name": "stdout",
     "output_type": "stream",
     "text": [
      "Enter a number : 4\n",
      "Number is not prime \n"
     ]
    }
   ],
   "source": [
    "# Q3 - Number prime or not\n",
    "num= int(input(\"Enter a number : \"))\n",
    "prime=True\n",
    "for i in range(2,num):\n",
    "    if num%i==0:\n",
    "        prime=False\n",
    "    break\n",
    "if prime:\n",
    "    print(\"Number is prime \")\n",
    "else:\n",
    "    print(\"Number is not prime \")\n",
    "\n"
   ]
  },
  {
   "cell_type": "code",
   "execution_count": 2,
   "metadata": {},
   "outputs": [
    {
     "name": "stdout",
     "output_type": "stream",
     "text": [
      "Enter a number : 4\n",
      "10\n"
     ]
    }
   ],
   "source": [
    "# Q4 - sum of first n natural numbers\n",
    "num=int(input(\"Enter a number : \"))\n",
    "sum=0\n",
    "num=num+1\n",
    "for i in range(1,num):\n",
    "    sum=sum+i\n",
    "print(sum)"
   ]
  },
  {
   "cell_type": "code",
   "execution_count": 2,
   "metadata": {},
   "outputs": [
    {
     "name": "stdout",
     "output_type": "stream",
     "text": [
      "Enter a number : 4\n",
      "10\n"
     ]
    }
   ],
   "source": [
    "# Q4 - sum of n natural numbers using while loop\n",
    "num=int(input(\"Enter a number : \"))\n",
    "sum=0\n",
    "i=1\n",
    "while i<=num:\n",
    "    sum=sum+i\n",
    "    i=i+1\n",
    "print(sum)"
   ]
  },
  {
   "cell_type": "code",
   "execution_count": 7,
   "metadata": {},
   "outputs": [
    {
     "name": "stdout",
     "output_type": "stream",
     "text": [
      "Enter a number : 0\n",
      "1\n"
     ]
    }
   ],
   "source": [
    "# Q5 - Factorial of a number\n",
    "num=int(input(\"Enter a number : \"))\n",
    "fact=1\n",
    "for i in range(1,num+1):\n",
    "    fact=fact*i\n",
    "print(fact)"
   ]
  },
  {
   "cell_type": "code",
   "execution_count": 8,
   "metadata": {},
   "outputs": [
    {
     "name": "stdout",
     "output_type": "stream",
     "text": [
      "\n",
      "*\n",
      "**\n",
      "***\n"
     ]
    }
   ],
   "source": [
    "# Q6 - Print pattern\n",
    "for i in range(4):\n",
    "    print(\"*\" * (i))"
   ]
  },
  {
   "cell_type": "code",
   "execution_count": 11,
   "metadata": {},
   "outputs": [
    {
     "name": "stdout",
     "output_type": "stream",
     "text": [
      "abhishek\n",
      "raturi\n",
      "abhishekraturi"
     ]
    }
   ],
   "source": [
    "# without using end\n",
    "print(\"abhishek\")\n",
    "print(\"raturi\") \n",
    "\n",
    "# using end\n",
    "print(\"abhishek\",end=\"\")\n",
    "print(\"raturi\",end=\"\") "
   ]
  },
  {
   "cell_type": "code",
   "execution_count": null,
   "metadata": {},
   "outputs": [],
   "source": []
  },
  {
   "cell_type": "code",
   "execution_count": null,
   "metadata": {},
   "outputs": [],
   "source": []
  },
  {
   "cell_type": "code",
   "execution_count": null,
   "metadata": {},
   "outputs": [],
   "source": []
  },
  {
   "cell_type": "code",
   "execution_count": null,
   "metadata": {},
   "outputs": [],
   "source": []
  }
 ],
 "metadata": {
  "kernelspec": {
   "display_name": "Python 3",
   "language": "python",
   "name": "python3"
  },
  "language_info": {
   "codemirror_mode": {
    "name": "ipython",
    "version": 3
   },
   "file_extension": ".py",
   "mimetype": "text/x-python",
   "name": "python",
   "nbconvert_exporter": "python",
   "pygments_lexer": "ipython3",
   "version": "3.8.5"
  }
 },
 "nbformat": 4,
 "nbformat_minor": 4
}
